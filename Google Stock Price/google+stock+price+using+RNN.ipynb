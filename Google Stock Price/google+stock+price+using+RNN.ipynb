{
 "cells": [
  {
   "cell_type": "markdown",
   "metadata": {
    "collapsed": true
   },
   "source": [
    "# Importing Libraries\n",
    "\n"
   ]
  },
  {
   "cell_type": "code",
   "execution_count": 2,
   "metadata": {
    "collapsed": true
   },
   "outputs": [],
   "source": [
    "import numpy as np\n",
    "import pandas as pd\n",
    "import matplotlib.pyplot as plt"
   ]
  },
  {
   "cell_type": "markdown",
   "metadata": {},
   "source": [
    "# Importing the training set"
   ]
  },
  {
   "cell_type": "code",
   "execution_count": 3,
   "metadata": {
    "collapsed": true
   },
   "outputs": [],
   "source": [
    "dataset_train = pd.read_csv('Google_Stock_Price_Train.csv')\n",
    "training_set = dataset_train.iloc[:, 1:2].values"
   ]
  },
  {
   "cell_type": "code",
   "execution_count": 4,
   "metadata": {
    "collapsed": false
   },
   "outputs": [],
   "source": [
    "from sklearn.preprocessing import MinMaxScaler\n",
    "sc = MinMaxScaler()\n",
    "training_set = sc.fit_transform(training_set)"
   ]
  },
  {
   "cell_type": "code",
   "execution_count": 5,
   "metadata": {
    "collapsed": false
   },
   "outputs": [
    {
     "name": "stdout",
     "output_type": "stream",
     "text": [
      "[[0.08581368]\n",
      " [0.09701243]\n",
      " [0.09433366]\n",
      " ...\n",
      " [0.95725128]\n",
      " [0.93796041]\n",
      " [0.93688146]]\n"
     ]
    }
   ],
   "source": [
    "print(training_set)"
   ]
  },
  {
   "cell_type": "code",
   "execution_count": 6,
   "metadata": {
    "collapsed": false
   },
   "outputs": [
    {
     "name": "stdout",
     "output_type": "stream",
     "text": [
      "            Date    Open    High     Low   Close      Volume\n",
      "0       1/3/2012  325.25  332.83  324.97  663.59   7,380,500\n",
      "1       1/4/2012  331.27  333.87  329.08  666.45   5,749,400\n",
      "2       1/5/2012  329.83  330.75  326.89  657.21   6,590,300\n",
      "3       1/6/2012  328.34  328.77  323.68  648.24   5,405,900\n",
      "4       1/9/2012  322.04  322.29  309.46  620.76  11,688,800\n",
      "5      1/10/2012  313.70  315.72  307.30  621.43   8,824,000\n",
      "6      1/11/2012  310.59  313.52  309.40  624.25   4,817,800\n",
      "7      1/12/2012  314.43  315.26  312.08  627.92   3,764,400\n",
      "8      1/13/2012  311.96  312.30  309.37  623.28   4,631,800\n",
      "9      1/17/2012  314.81  314.81  311.67  626.86   3,832,800\n",
      "10     1/18/2012  312.14  315.82  309.90  631.18   5,544,000\n",
      "11     1/19/2012  319.30  319.30  314.55  637.82  12,657,800\n",
      "12     1/20/2012  294.16  294.40  289.76  584.39  21,231,800\n",
      "13     1/23/2012  291.91  293.23  290.49  583.92   6,851,300\n",
      "14     1/24/2012  292.07  292.74  287.92  579.34   6,134,400\n",
      "15     1/25/2012  287.68  288.27  282.13  567.93  10,012,700\n",
      "16     1/26/2012  284.92  286.17  281.22  566.54   6,476,500\n",
      "17     1/27/2012  284.32  289.08  283.60  578.39   7,262,000\n",
      "18     1/30/2012  287.95  288.92  285.63  576.11   4,678,400\n",
      "19     1/31/2012  290.41  290.91  286.50  578.52   4,300,700\n",
      "20      2/1/2012  291.38  291.66  288.49  579.24   4,658,700\n",
      "21      2/2/2012  291.34  292.11  289.95  583.51   4,847,400\n",
      "22      2/3/2012  294.23  297.42  292.93   594.7   6,360,700\n",
      "23      2/6/2012  296.39  304.27  295.90  607.42   7,386,700\n",
      "24      2/7/2012  302.44  303.56  300.75  605.11   4,199,700\n",
      "25      2/8/2012  303.18  304.53  301.24  608.18   3,686,400\n",
      "26      2/9/2012  304.87  306.10  303.36  609.79   4,546,300\n",
      "27     2/10/2012  302.81  302.93  300.87  604.25   4,667,700\n",
      "28     2/13/2012  304.11  305.77  303.87  610.52   3,646,100\n",
      "29     2/14/2012  304.63  304.86  301.25  608.09   3,620,900\n",
      "...          ...     ...     ...     ...     ...         ...\n",
      "1228  11/17/2016  766.92  772.70  764.23  771.23   1,304,000\n",
      "1229  11/18/2016  771.37  775.00  760.00  760.54   1,547,100\n",
      "1230  11/21/2016  762.61  769.70  760.60   769.2   1,330,600\n",
      "1231  11/22/2016  772.63  776.96  767.00  768.27   1,593,100\n",
      "1232  11/23/2016  767.73  768.28  755.25  760.99   1,478,400\n",
      "1233  11/25/2016  764.26  765.00  760.52  761.68     587,400\n",
      "1234  11/28/2016  760.00  779.53  759.80  768.24   2,188,200\n",
      "1235  11/29/2016  771.53  778.50  768.24  770.84   1,616,600\n",
      "1236  11/30/2016  770.07  772.99  754.83  758.04   2,392,900\n",
      "1237   12/1/2016  757.44  759.85  737.03  747.92   3,017,900\n",
      "1238   12/2/2016  744.59  754.00  743.10   750.5   1,452,500\n",
      "1239   12/5/2016  757.71  763.90  752.90  762.52   1,394,200\n",
      "1240   12/6/2016  764.73  768.83  757.34  759.11   1,690,700\n",
      "1241   12/7/2016  761.00  771.36  755.80  771.19   1,761,000\n",
      "1242   12/8/2016  772.48  778.18  767.23  776.42   1,488,100\n",
      "1243   12/9/2016  780.00  789.43  779.02  789.29   1,821,900\n",
      "1244  12/12/2016  785.04  791.25  784.35  789.27   2,104,100\n",
      "1245  12/13/2016  793.90  804.38  793.34   796.1   2,145,200\n",
      "1246  12/14/2016  797.40  804.00  794.01  797.07   1,704,200\n",
      "1247  12/15/2016  797.34  803.00  792.92  797.85   1,626,500\n",
      "1248  12/16/2016  800.40  800.86  790.29   790.8   2,443,800\n",
      "1249  12/19/2016  790.22  797.66  786.27   794.2   1,232,100\n",
      "1250  12/20/2016  796.76  798.65  793.27  796.42     951,000\n",
      "1251  12/21/2016  795.84  796.68  787.10  794.56   1,211,300\n",
      "1252  12/22/2016  792.36  793.32  788.58  791.26     972,200\n",
      "1253  12/23/2016  790.90  792.74  787.28  789.91     623,400\n",
      "1254  12/27/2016  790.68  797.86  787.66  791.55     789,100\n",
      "1255  12/28/2016  793.70  794.23  783.20  785.05   1,153,800\n",
      "1256  12/29/2016  783.33  785.93  778.92  782.79     744,300\n",
      "1257  12/30/2016  782.75  782.78  770.41  771.82   1,770,000\n",
      "\n",
      "[1258 rows x 6 columns]\n"
     ]
    }
   ],
   "source": [
    "print(dataset_train)"
   ]
  },
  {
   "cell_type": "code",
   "execution_count": 7,
   "metadata": {
    "collapsed": false
   },
   "outputs": [],
   "source": [
    "x_train = training_set[0:1257]\n",
    "y_train = training_set[1:1258]"
   ]
  },
  {
   "cell_type": "markdown",
   "metadata": {
    "collapsed": false
   },
   "source": [
    "# reshaping the x_train for the time step factor\n",
    "\n"
   ]
  },
  {
   "cell_type": "code",
   "execution_count": 8,
   "metadata": {
    "collapsed": false
   },
   "outputs": [],
   "source": [
    "x_train = np.reshape(x_train,(1257,1,1))  # (no. of observations,timestep, features)"
   ]
  },
  {
   "cell_type": "code",
   "execution_count": 9,
   "metadata": {
    "collapsed": false
   },
   "outputs": [
    {
     "data": {
      "text/plain": [
       "3"
      ]
     },
     "execution_count": 9,
     "metadata": {},
     "output_type": "execute_result"
    }
   ],
   "source": [
    "x_train.ndim"
   ]
  },
  {
   "cell_type": "code",
   "execution_count": 10,
   "metadata": {
    "collapsed": false
   },
   "outputs": [
    {
     "data": {
      "text/plain": [
       "array([[[0.08581368]],\n",
       "\n",
       "       [[0.09701243]],\n",
       "\n",
       "       [[0.09433366]],\n",
       "\n",
       "       ...,\n",
       "\n",
       "       [[0.95163331]],\n",
       "\n",
       "       [[0.95725128]],\n",
       "\n",
       "       [[0.93796041]]])"
      ]
     },
     "execution_count": 10,
     "metadata": {},
     "output_type": "execute_result"
    }
   ],
   "source": [
    "x_train"
   ]
  },
  {
   "cell_type": "code",
   "execution_count": 11,
   "metadata": {
    "collapsed": false
   },
   "outputs": [
    {
     "name": "stderr",
     "output_type": "stream",
     "text": [
      "Using TensorFlow backend.\n"
     ]
    }
   ],
   "source": [
    "from keras.models import Sequential\n",
    "from keras.layers import Dense\n",
    "from keras.layers import LSTM"
   ]
  },
  {
   "cell_type": "markdown",
   "metadata": {
    "collapsed": true
   },
   "source": [
    "# Intialising the model\n",
    "\n"
   ]
  },
  {
   "cell_type": "code",
   "execution_count": 12,
   "metadata": {
    "collapsed": true
   },
   "outputs": [],
   "source": [
    "regressor = Sequential()"
   ]
  },
  {
   "cell_type": "markdown",
   "metadata": {
    "collapsed": false
   },
   "source": [
    "# Adding the input layer and LSTM layer\n",
    "\n"
   ]
  },
  {
   "cell_type": "code",
   "execution_count": 13,
   "metadata": {
    "collapsed": false
   },
   "outputs": [],
   "source": [
    "regressor.add(LSTM(units = 4, activation = 'sigmoid', input_shape = (None,1)))# units = 4 for rnn is good"
   ]
  },
  {
   "cell_type": "markdown",
   "metadata": {
    "collapsed": true
   },
   "source": [
    "#  Adding Output layer\n",
    "\n"
   ]
  },
  {
   "cell_type": "code",
   "execution_count": 14,
   "metadata": {
    "collapsed": true
   },
   "outputs": [],
   "source": [
    "regressor.add(Dense(units = 1)) # units is the shape of timestamp"
   ]
  },
  {
   "cell_type": "markdown",
   "metadata": {
    "collapsed": true
   },
   "source": [
    "# Compiling the RNN\n",
    "\n"
   ]
  },
  {
   "cell_type": "code",
   "execution_count": 15,
   "metadata": {
    "collapsed": true
   },
   "outputs": [],
   "source": [
    "regressor.compile(optimizer = 'adam', loss = 'mean_squared_error')"
   ]
  },
  {
   "cell_type": "markdown",
   "metadata": {
    "collapsed": false
   },
   "source": [
    "# Fitting RNN to the Training set \n",
    "\n"
   ]
  },
  {
   "cell_type": "code",
   "execution_count": 16,
   "metadata": {
    "collapsed": false
   },
   "outputs": [
    {
     "name": "stdout",
     "output_type": "stream",
     "text": [
      "Epoch 1/200\n",
      "1257/1257 [==============================] - 2s 1ms/step - loss: 0.0767\n",
      "Epoch 2/200\n",
      "1257/1257 [==============================] - 0s 59us/step - loss: 0.0740\n",
      "Epoch 3/200\n",
      "1257/1257 [==============================] - 0s 64us/step - loss: 0.0721\n",
      "Epoch 4/200\n",
      "1257/1257 [==============================] - 0s 60us/step - loss: 0.0701\n",
      "Epoch 5/200\n",
      "1257/1257 [==============================] - 0s 77us/step - loss: 0.0681\n",
      "Epoch 6/200\n",
      "1257/1257 [==============================] - 0s 61us/step - loss: 0.0662\n",
      "Epoch 7/200\n",
      "1257/1257 [==============================] - 0s 67us/step - loss: 0.0642\n",
      "Epoch 8/200\n",
      "1257/1257 [==============================] - 0s 64us/step - loss: 0.0622\n",
      "Epoch 9/200\n",
      "1257/1257 [==============================] - 0s 64us/step - loss: 0.0602\n",
      "Epoch 10/200\n",
      "1257/1257 [==============================] - 0s 67us/step - loss: 0.0581\n",
      "Epoch 11/200\n",
      "1257/1257 [==============================] - 0s 65us/step - loss: 0.0560\n",
      "Epoch 12/200\n",
      "1257/1257 [==============================] - 0s 64us/step - loss: 0.0538\n",
      "Epoch 13/200\n",
      "1257/1257 [==============================] - 0s 65us/step - loss: 0.0516\n",
      "Epoch 14/200\n",
      "1257/1257 [==============================] - 0s 63us/step - loss: 0.0494\n",
      "Epoch 15/200\n",
      "1257/1257 [==============================] - 0s 68us/step - loss: 0.0470\n",
      "Epoch 16/200\n",
      "1257/1257 [==============================] - 0s 66us/step - loss: 0.0447\n",
      "Epoch 17/200\n",
      "1257/1257 [==============================] - 0s 75us/step - loss: 0.0423\n",
      "Epoch 18/200\n",
      "1257/1257 [==============================] - 0s 117us/step - loss: 0.0399\n",
      "Epoch 19/200\n",
      "1257/1257 [==============================] - 0s 162us/step - loss: 0.0374\n",
      "Epoch 20/200\n",
      "1257/1257 [==============================] - 0s 174us/step - loss: 0.0350\n",
      "Epoch 21/200\n",
      "1257/1257 [==============================] - 0s 136us/step - loss: 0.0325\n",
      "Epoch 22/200\n",
      "1257/1257 [==============================] - 0s 88us/step - loss: 0.0301\n",
      "Epoch 23/200\n",
      "1257/1257 [==============================] - 0s 110us/step - loss: 0.0277\n",
      "Epoch 24/200\n",
      "1257/1257 [==============================] - 0s 131us/step - loss: 0.0253\n",
      "Epoch 25/200\n",
      "1257/1257 [==============================] - 0s 168us/step - loss: 0.0230\n",
      "Epoch 26/200\n",
      "1257/1257 [==============================] - 0s 203us/step - loss: 0.0208\n",
      "Epoch 27/200\n",
      "1257/1257 [==============================] - 0s 188us/step - loss: 0.0186\n",
      "Epoch 28/200\n",
      "1257/1257 [==============================] - 0s 118us/step - loss: 0.0165\n",
      "Epoch 29/200\n",
      "1257/1257 [==============================] - 0s 91us/step - loss: 0.0146\n",
      "Epoch 30/200\n",
      "1257/1257 [==============================] - 0s 121us/step - loss: 0.0128\n",
      "Epoch 31/200\n",
      "1257/1257 [==============================] - 0s 108us/step - loss: 0.0111\n",
      "Epoch 32/200\n",
      "1257/1257 [==============================] - 0s 202us/step - loss: 0.0096\n",
      "Epoch 33/200\n",
      "1257/1257 [==============================] - 0s 203us/step - loss: 0.0082\n",
      "Epoch 34/200\n",
      "1257/1257 [==============================] - 0s 195us/step - loss: 0.0070\n",
      "Epoch 35/200\n",
      "1257/1257 [==============================] - 0s 152us/step - loss: 0.0058\n",
      "Epoch 36/200\n",
      "1257/1257 [==============================] - 0s 92us/step - loss: 0.0049\n",
      "Epoch 37/200\n",
      "1257/1257 [==============================] - 0s 119us/step - loss: 0.0040\n",
      "Epoch 38/200\n",
      "1257/1257 [==============================] - 0s 112us/step - loss: 0.0033\n",
      "Epoch 39/200\n",
      "1257/1257 [==============================] - 0s 149us/step - loss: 0.0027\n",
      "Epoch 40/200\n",
      "1257/1257 [==============================] - 0s 216us/step - loss: 0.0022\n",
      "Epoch 41/200\n",
      "1257/1257 [==============================] - 0s 187us/step - loss: 0.0018\n",
      "Epoch 42/200\n",
      "1257/1257 [==============================] - 0s 213us/step - loss: 0.0014\n",
      "Epoch 43/200\n",
      "1257/1257 [==============================] - 0s 239us/step - loss: 0.0011\n",
      "Epoch 44/200\n",
      "1257/1257 [==============================] - 0s 222us/step - loss: 9.2982e-04\n",
      "Epoch 45/200\n",
      "1257/1257 [==============================] - 0s 224us/step - loss: 7.5371e-04\n",
      "Epoch 46/200\n",
      "1257/1257 [==============================] - 0s 188us/step - loss: 6.2536e-04\n",
      "Epoch 47/200\n",
      "1257/1257 [==============================] - 0s 186us/step - loss: 5.2826e-04\n",
      "Epoch 48/200\n",
      "1257/1257 [==============================] - 0s 178us/step - loss: 4.4999e-04\n",
      "Epoch 49/200\n",
      "1257/1257 [==============================] - 0s 141us/step - loss: 3.9603e-04\n",
      "Epoch 50/200\n",
      "1257/1257 [==============================] - 0s 189us/step - loss: 3.5376e-04\n",
      "Epoch 51/200\n",
      "1257/1257 [==============================] - 0s 178us/step - loss: 3.2397e-04\n",
      "Epoch 52/200\n",
      "1257/1257 [==============================] - 0s 120us/step - loss: 3.0250e-04\n",
      "Epoch 53/200\n",
      "1257/1257 [==============================] - 0s 122us/step - loss: 2.8702e-04\n",
      "Epoch 54/200\n",
      "1257/1257 [==============================] - 0s 116us/step - loss: 2.7783e-04\n",
      "Epoch 55/200\n",
      "1257/1257 [==============================] - 0s 124us/step - loss: 2.7129e-04\n",
      "Epoch 56/200\n",
      "1257/1257 [==============================] - 0s 112us/step - loss: 2.6593e-04\n",
      "Epoch 57/200\n",
      "1257/1257 [==============================] - 0s 112us/step - loss: 2.6243e-04\n",
      "Epoch 58/200\n",
      "1257/1257 [==============================] - 0s 191us/step - loss: 2.6004e-04\n",
      "Epoch 59/200\n",
      "1257/1257 [==============================] - 0s 178us/step - loss: 2.5731e-04\n",
      "Epoch 60/200\n",
      "1257/1257 [==============================] - 0s 197us/step - loss: 2.5862e-04\n",
      "Epoch 61/200\n",
      "1257/1257 [==============================] - 0s 168us/step - loss: 2.5662e-04\n",
      "Epoch 62/200\n",
      "1257/1257 [==============================] - 0s 161us/step - loss: 2.5637e-04\n",
      "Epoch 63/200\n",
      "1257/1257 [==============================] - 0s 174us/step - loss: 2.5645e-04\n",
      "Epoch 64/200\n",
      "1257/1257 [==============================] - 0s 171us/step - loss: 2.5549e-04\n",
      "Epoch 65/200\n",
      "1257/1257 [==============================] - 0s 187us/step - loss: 2.5606e-04\n",
      "Epoch 66/200\n",
      "1257/1257 [==============================] - 0s 174us/step - loss: 2.5487e-04\n",
      "Epoch 67/200\n",
      "1257/1257 [==============================] - 0s 186us/step - loss: 2.5470e-04\n",
      "Epoch 68/200\n",
      "1257/1257 [==============================] - 0s 177us/step - loss: 2.5468e-04\n",
      "Epoch 69/200\n",
      "1257/1257 [==============================] - 0s 172us/step - loss: 2.5506e-04\n",
      "Epoch 70/200\n",
      "1257/1257 [==============================] - 0s 206us/step - loss: 2.5500e-04\n",
      "Epoch 71/200\n",
      "1257/1257 [==============================] - 0s 184us/step - loss: 2.5645e-04\n",
      "Epoch 72/200\n",
      "1257/1257 [==============================] - 0s 166us/step - loss: 2.5509e-04\n",
      "Epoch 73/200\n",
      "1257/1257 [==============================] - 0s 181us/step - loss: 2.5376e-04\n",
      "Epoch 74/200\n",
      "1257/1257 [==============================] - 0s 153us/step - loss: 2.5391e-04\n",
      "Epoch 75/200\n",
      "1257/1257 [==============================] - 0s 148us/step - loss: 2.5446e-04\n",
      "Epoch 76/200\n",
      "1257/1257 [==============================] - 0s 188us/step - loss: 2.5404e-04\n",
      "Epoch 77/200\n",
      "1257/1257 [==============================] - 0s 124us/step - loss: 2.5481e-04\n",
      "Epoch 78/200\n",
      "1257/1257 [==============================] - 0s 124us/step - loss: 2.5567e-04\n",
      "Epoch 79/200\n",
      "1257/1257 [==============================] - 0s 159us/step - loss: 2.5353e-04\n",
      "Epoch 80/200\n",
      "1257/1257 [==============================] - 0s 119us/step - loss: 2.5379e-04\n",
      "Epoch 81/200\n",
      "1257/1257 [==============================] - 0s 104us/step - loss: 2.5405e-04\n",
      "Epoch 82/200\n",
      "1257/1257 [==============================] - 0s 116us/step - loss: 2.5484e-04\n",
      "Epoch 83/200\n",
      "1257/1257 [==============================] - 0s 152us/step - loss: 2.5473e-04\n",
      "Epoch 84/200\n",
      "1257/1257 [==============================] - 0s 167us/step - loss: 2.5375e-04\n",
      "Epoch 85/200\n",
      "1257/1257 [==============================] - 0s 170us/step - loss: 2.5346e-04\n",
      "Epoch 86/200\n",
      "1257/1257 [==============================] - 0s 168us/step - loss: 2.5276e-04\n",
      "Epoch 87/200\n",
      "1257/1257 [==============================] - 0s 186us/step - loss: 2.5522e-04\n",
      "Epoch 88/200\n",
      "1257/1257 [==============================] - 0s 177us/step - loss: 2.5342e-04\n",
      "Epoch 89/200\n",
      "1257/1257 [==============================] - 0s 184us/step - loss: 2.5416e-04\n",
      "Epoch 90/200\n",
      "1257/1257 [==============================] - 0s 203us/step - loss: 2.5520e-04\n",
      "Epoch 91/200\n",
      "1257/1257 [==============================] - 0s 196us/step - loss: 2.5440e-04\n",
      "Epoch 92/200\n",
      "1257/1257 [==============================] - 0s 193us/step - loss: 2.5422e-04\n",
      "Epoch 93/200\n",
      "1257/1257 [==============================] - 0s 168us/step - loss: 2.5364e-04\n",
      "Epoch 94/200\n",
      "1257/1257 [==============================] - 0s 158us/step - loss: 2.5061e-04\n",
      "Epoch 95/200\n",
      "1257/1257 [==============================] - 0s 181us/step - loss: 2.5592e-04\n",
      "Epoch 96/200\n",
      "1257/1257 [==============================] - 0s 213us/step - loss: 2.5339e-04\n",
      "Epoch 97/200\n",
      "1257/1257 [==============================] - 0s 189us/step - loss: 2.5327e-04\n",
      "Epoch 98/200\n",
      "1257/1257 [==============================] - 0s 146us/step - loss: 2.5558e-04\n",
      "Epoch 99/200\n",
      "1257/1257 [==============================] - 0s 116us/step - loss: 2.5162e-04\n",
      "Epoch 100/200\n",
      "1257/1257 [==============================] - 0s 123us/step - loss: 2.5116e-04\n",
      "Epoch 101/200\n",
      "1257/1257 [==============================] - 0s 187us/step - loss: 2.5188e-04\n",
      "Epoch 102/200\n",
      "1257/1257 [==============================] - 0s 169us/step - loss: 2.5681e-04\n",
      "Epoch 103/200\n",
      "1257/1257 [==============================] - 0s 141us/step - loss: 2.5074e-04\n",
      "Epoch 104/200\n",
      "1257/1257 [==============================] - 0s 122us/step - loss: 2.5338e-04\n",
      "Epoch 105/200\n",
      "1257/1257 [==============================] - 0s 187us/step - loss: 2.5242e-04\n",
      "Epoch 106/200\n",
      "1257/1257 [==============================] - 0s 127us/step - loss: 2.5641e-04\n",
      "Epoch 107/200\n",
      "1257/1257 [==============================] - 0s 130us/step - loss: 2.5136e-04\n",
      "Epoch 108/200\n",
      "1257/1257 [==============================] - 0s 147us/step - loss: 2.5093e-04\n",
      "Epoch 109/200\n",
      "1257/1257 [==============================] - 0s 186us/step - loss: 2.5261e-04\n",
      "Epoch 110/200\n",
      "1257/1257 [==============================] - 0s 206us/step - loss: 2.5236e-04\n",
      "Epoch 111/200\n",
      "1257/1257 [==============================] - 0s 200us/step - loss: 2.5359e-04\n",
      "Epoch 112/200\n",
      "1257/1257 [==============================] - 0s 147us/step - loss: 2.5022e-04\n",
      "Epoch 113/200\n",
      "1257/1257 [==============================] - 0s 158us/step - loss: 2.5312e-04\n",
      "Epoch 114/200\n",
      "1257/1257 [==============================] - 0s 174us/step - loss: 2.4937e-04\n",
      "Epoch 115/200\n",
      "1257/1257 [==============================] - 0s 208us/step - loss: 2.5072e-04\n",
      "Epoch 116/200\n",
      "1257/1257 [==============================] - 0s 200us/step - loss: 2.5092e-04\n",
      "Epoch 117/200\n",
      "1257/1257 [==============================] - 0s 186us/step - loss: 2.5556e-04\n",
      "Epoch 118/200\n",
      "1257/1257 [==============================] - 0s 158us/step - loss: 2.5044e-04\n",
      "Epoch 119/200\n",
      "1257/1257 [==============================] - 0s 110us/step - loss: 2.5032e-04\n",
      "Epoch 120/200\n",
      "1257/1257 [==============================] - 0s 126us/step - loss: 2.5187e-04\n",
      "Epoch 121/200\n",
      "1257/1257 [==============================] - 0s 235us/step - loss: 2.5224e-04\n",
      "Epoch 122/200\n",
      "1257/1257 [==============================] - 0s 158us/step - loss: 2.5150e-04\n",
      "Epoch 123/200\n",
      "1257/1257 [==============================] - 0s 180us/step - loss: 2.4966e-04\n",
      "Epoch 124/200\n",
      "1257/1257 [==============================] - 0s 228us/step - loss: 2.6133e-04\n",
      "Epoch 125/200\n",
      "1257/1257 [==============================] - 0s 124us/step - loss: 2.5181e-04\n",
      "Epoch 126/200\n",
      "1257/1257 [==============================] - 0s 122us/step - loss: 2.5114e-04\n",
      "Epoch 127/200\n",
      "1257/1257 [==============================] - 0s 107us/step - loss: 2.5227e-04\n",
      "Epoch 128/200\n",
      "1257/1257 [==============================] - 0s 90us/step - loss: 2.5075e-04\n",
      "Epoch 129/200\n",
      "1257/1257 [==============================] - 0s 75us/step - loss: 2.5234e-04\n",
      "Epoch 130/200\n",
      "1257/1257 [==============================] - 0s 82us/step - loss: 2.4845e-04\n",
      "Epoch 131/200\n",
      "1257/1257 [==============================] - 0s 83us/step - loss: 2.4888e-04\n",
      "Epoch 132/200\n",
      "1257/1257 [==============================] - 0s 81us/step - loss: 2.5044e-04\n",
      "Epoch 133/200\n",
      "1257/1257 [==============================] - 0s 78us/step - loss: 2.4960e-04\n",
      "Epoch 134/200\n",
      "1257/1257 [==============================] - 0s 83us/step - loss: 2.4752e-04\n",
      "Epoch 135/200\n",
      "1257/1257 [==============================] - 0s 77us/step - loss: 2.5595e-04\n",
      "Epoch 136/200\n",
      "1257/1257 [==============================] - 0s 93us/step - loss: 2.5408e-04\n",
      "Epoch 137/200\n",
      "1257/1257 [==============================] - 0s 60us/step - loss: 2.5022e-04\n",
      "Epoch 138/200\n",
      "1257/1257 [==============================] - 0s 79us/step - loss: 2.5072e-04\n",
      "Epoch 139/200\n",
      "1257/1257 [==============================] - 0s 66us/step - loss: 2.5099e-04\n",
      "Epoch 140/200\n",
      "1257/1257 [==============================] - 0s 70us/step - loss: 2.4801e-04\n",
      "Epoch 141/200\n",
      "1257/1257 [==============================] - 0s 66us/step - loss: 2.4760e-04\n",
      "Epoch 142/200\n",
      "1257/1257 [==============================] - 0s 65us/step - loss: 2.4765e-04\n",
      "Epoch 143/200\n",
      "1257/1257 [==============================] - 0s 76us/step - loss: 2.5166e-04\n",
      "Epoch 144/200\n",
      "1257/1257 [==============================] - 0s 79us/step - loss: 2.5086e-04\n",
      "Epoch 145/200\n",
      "1257/1257 [==============================] - 0s 75us/step - loss: 2.4858e-04\n",
      "Epoch 146/200\n",
      "1257/1257 [==============================] - 0s 67us/step - loss: 2.5013e-04\n",
      "Epoch 147/200\n",
      "1257/1257 [==============================] - 0s 91us/step - loss: 2.4784e-04\n",
      "Epoch 148/200\n",
      "1257/1257 [==============================] - 0s 81us/step - loss: 2.4944e-04\n",
      "Epoch 149/200\n",
      "1257/1257 [==============================] - 0s 80us/step - loss: 2.4709e-04\n",
      "Epoch 150/200\n",
      "1257/1257 [==============================] - 0s 65us/step - loss: 2.5180e-04\n",
      "Epoch 151/200\n",
      "1257/1257 [==============================] - 0s 67us/step - loss: 2.4965e-04\n",
      "Epoch 152/200\n",
      "1257/1257 [==============================] - 0s 72us/step - loss: 2.5198e-04\n",
      "Epoch 153/200\n",
      "1257/1257 [==============================] - 0s 77us/step - loss: 2.4804e-04\n",
      "Epoch 154/200\n",
      "1257/1257 [==============================] - 0s 67us/step - loss: 2.5074e-04\n",
      "Epoch 155/200\n",
      "1257/1257 [==============================] - 0s 72us/step - loss: 2.6142e-04\n",
      "Epoch 156/200\n",
      "1257/1257 [==============================] - 0s 70us/step - loss: 2.4825e-04\n",
      "Epoch 157/200\n",
      "1257/1257 [==============================] - 0s 68us/step - loss: 2.4856e-04\n",
      "Epoch 158/200\n",
      "1257/1257 [==============================] - 0s 68us/step - loss: 2.5213e-04\n",
      "Epoch 159/200\n",
      "1257/1257 [==============================] - 0s 76us/step - loss: 2.5103e-04\n",
      "Epoch 160/200\n",
      "1257/1257 [==============================] - 0s 92us/step - loss: 2.5469e-04\n",
      "Epoch 161/200\n",
      "1257/1257 [==============================] - 0s 152us/step - loss: 2.4759e-04\n",
      "Epoch 162/200\n",
      "1257/1257 [==============================] - 0s 171us/step - loss: 2.6072e-04\n",
      "Epoch 163/200\n",
      "1257/1257 [==============================] - 0s 240us/step - loss: 2.4827e-04\n",
      "Epoch 164/200\n",
      "1257/1257 [==============================] - 0s 196us/step - loss: 2.4688e-04\n",
      "Epoch 165/200\n",
      "1257/1257 [==============================] - 0s 123us/step - loss: 2.4844e-04\n",
      "Epoch 166/200\n",
      "1257/1257 [==============================] - 0s 106us/step - loss: 2.5194e-04\n",
      "Epoch 167/200\n",
      "1257/1257 [==============================] - 0s 93us/step - loss: 2.4717e-04\n",
      "Epoch 168/200\n",
      "1257/1257 [==============================] - 0s 98us/step - loss: 2.4921e-04\n",
      "Epoch 169/200\n",
      "1257/1257 [==============================] - 0s 85us/step - loss: 2.5049e-04\n",
      "Epoch 170/200\n",
      "1257/1257 [==============================] - 0s 79us/step - loss: 2.5416e-04\n",
      "Epoch 171/200\n",
      "1257/1257 [==============================] - 0s 71us/step - loss: 2.4999e-04\n",
      "Epoch 172/200\n",
      "1257/1257 [==============================] - 0s 69us/step - loss: 2.4809e-04\n",
      "Epoch 173/200\n",
      "1257/1257 [==============================] - 0s 72us/step - loss: 2.4971e-04\n",
      "Epoch 174/200\n",
      "1257/1257 [==============================] - 0s 73us/step - loss: 2.5821e-04\n",
      "Epoch 175/200\n",
      "1257/1257 [==============================] - 0s 72us/step - loss: 2.5493e-04\n",
      "Epoch 176/200\n",
      "1257/1257 [==============================] - 0s 76us/step - loss: 2.4788e-04\n",
      "Epoch 177/200\n",
      "1257/1257 [==============================] - 0s 119us/step - loss: 2.5128e-04\n",
      "Epoch 178/200\n",
      "1257/1257 [==============================] - 0s 236us/step - loss: 2.5128e-04\n",
      "Epoch 179/200\n",
      "1257/1257 [==============================] - 0s 200us/step - loss: 2.4886e-04\n",
      "Epoch 180/200\n",
      "1257/1257 [==============================] - 0s 229us/step - loss: 2.4945e-04\n",
      "Epoch 181/200\n",
      "1257/1257 [==============================] - 0s 212us/step - loss: 2.4681e-04\n",
      "Epoch 182/200\n",
      "1257/1257 [==============================] - 0s 112us/step - loss: 2.4968e-04\n",
      "Epoch 183/200\n",
      "1257/1257 [==============================] - 0s 88us/step - loss: 2.5103e-04\n",
      "Epoch 184/200\n",
      "1257/1257 [==============================] - 0s 94us/step - loss: 2.4839e-04\n",
      "Epoch 185/200\n",
      "1257/1257 [==============================] - 0s 76us/step - loss: 2.4872e-04\n",
      "Epoch 186/200\n",
      "1257/1257 [==============================] - 0s 82us/step - loss: 2.4723e-04\n",
      "Epoch 187/200\n",
      "1257/1257 [==============================] - 0s 80us/step - loss: 2.4738e-04\n",
      "Epoch 188/200\n",
      "1257/1257 [==============================] - 0s 94us/step - loss: 2.5042e-04\n",
      "Epoch 189/200\n",
      "1257/1257 [==============================] - 0s 92us/step - loss: 2.5006e-04\n",
      "Epoch 190/200\n",
      "1257/1257 [==============================] - 0s 79us/step - loss: 2.4929e-04\n",
      "Epoch 191/200\n",
      "1257/1257 [==============================] - 0s 77us/step - loss: 2.4716e-04\n",
      "Epoch 192/200\n",
      "1257/1257 [==============================] - 0s 72us/step - loss: 2.4821e-04\n",
      "Epoch 193/200\n",
      "1257/1257 [==============================] - 0s 66us/step - loss: 2.4770e-04\n",
      "Epoch 194/200\n",
      "1257/1257 [==============================] - 0s 74us/step - loss: 2.4562e-04\n",
      "Epoch 195/200\n",
      "1257/1257 [==============================] - 0s 76us/step - loss: 2.4984e-04\n",
      "Epoch 196/200\n",
      "1257/1257 [==============================] - 0s 82us/step - loss: 2.5257e-04\n",
      "Epoch 197/200\n",
      "1257/1257 [==============================] - 0s 82us/step - loss: 2.5194e-04\n",
      "Epoch 198/200\n",
      "1257/1257 [==============================] - 0s 125us/step - loss: 2.5552e-04\n",
      "Epoch 199/200\n",
      "1257/1257 [==============================] - 0s 265us/step - loss: 2.5173e-04\n",
      "Epoch 200/200\n",
      "1257/1257 [==============================] - 0s 161us/step - loss: 2.4864e-04\n"
     ]
    },
    {
     "data": {
      "text/plain": [
       "<keras.callbacks.History at 0x7fad187805f8>"
      ]
     },
     "execution_count": 16,
     "metadata": {},
     "output_type": "execute_result"
    }
   ],
   "source": [
    "regressor.fit(x_train,y_train,batch_size = 32 ,epochs = 200)"
   ]
  },
  {
   "cell_type": "markdown",
   "metadata": {
    "collapsed": true
   },
   "source": [
    "# Getting the Real stock price of 2017\n",
    "\n"
   ]
  },
  {
   "cell_type": "code",
   "execution_count": 17,
   "metadata": {
    "collapsed": true
   },
   "outputs": [],
   "source": [
    "test_set = pd.read_csv('Google_Stock_Price_Test.csv')\n",
    "real_price = test_set.iloc[:,1:2].values"
   ]
  },
  {
   "cell_type": "code",
   "execution_count": 18,
   "metadata": {
    "collapsed": false
   },
   "outputs": [
    {
     "data": {
      "text/plain": [
       "array([[778.81],\n",
       "       [788.36],\n",
       "       [786.08],\n",
       "       [795.26],\n",
       "       [806.4 ],\n",
       "       [807.86],\n",
       "       [805.  ],\n",
       "       [807.14],\n",
       "       [807.48],\n",
       "       [807.08],\n",
       "       [805.81],\n",
       "       [805.12],\n",
       "       [806.91],\n",
       "       [807.25],\n",
       "       [822.3 ],\n",
       "       [829.62],\n",
       "       [837.81],\n",
       "       [834.71],\n",
       "       [814.66],\n",
       "       [796.86]])"
      ]
     },
     "execution_count": 18,
     "metadata": {},
     "output_type": "execute_result"
    }
   ],
   "source": [
    "real_price"
   ]
  },
  {
   "cell_type": "markdown",
   "metadata": {
    "collapsed": true
   },
   "source": [
    "# Prediction\n",
    "\n"
   ]
  },
  {
   "cell_type": "code",
   "execution_count": 19,
   "metadata": {
    "collapsed": true
   },
   "outputs": [],
   "source": [
    "inputs = real_price\n",
    "inputs = sc.transform(inputs)\n",
    "inputs = np.reshape(inputs,(20,1,1))\n",
    "predicted_price = regressor.predict(inputs)\n",
    "predicted_price = sc.inverse_transform(predicted_price)"
   ]
  },
  {
   "cell_type": "markdown",
   "metadata": {},
   "source": [
    "# Visualising the data"
   ]
  },
  {
   "cell_type": "code",
   "execution_count": 24,
   "metadata": {
    "collapsed": false
   },
   "outputs": [
    {
     "data": {
      "image/png": "[encoded data removed]",
      "text/plain": [
       "<Figure size 1080x720 with 1 Axes>"
      ]
     },
     "metadata": {},
     "output_type": "display_data"
    }
   ],
   "source": [
    "plt.rcParams['figure.figsize'] = (15,10)\n",
    "plt.plot(real_price, color = 'red', label = \"Real stock Price\")\n",
    "plt.plot(predicted_price, color = 'blue', label = \"Predicted stock price\")\n",
    "plt.title(\"google stock price\")\n",
    "plt.xlabel(\"Time\")\n",
    "plt.ylabel(\"google stock price\")\n",
    "plt.legend()\n",
    "plt.show()"
   ]
  },
  {
   "cell_type": "code",
   "execution_count": null,
   "metadata": {
    "collapsed": true
   },
   "outputs": [],
   "source": []
  }
 ],
 "metadata": {
  "kernelspec": {
   "display_name": "Python 3",
   "language": "python",
   "name": "python3"
  },
  "language_info": {
   "codemirror_mode": {
    "name": "ipython",
    "version": 3
   },
   "file_extension": ".py",
   "mimetype": "text/x-python",
   "name": "python",
   "nbconvert_exporter": "python",
   "pygments_lexer": "ipython3",
   "version": "3.6.3"
  }
 },
 "nbformat": 4,
 "nbformat_minor": 2
}
