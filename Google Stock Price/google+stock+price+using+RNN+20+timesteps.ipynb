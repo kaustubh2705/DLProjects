{
 "cells": [
  {
   "cell_type": "markdown",
   "metadata": {
    "collapsed": true
   },
   "source": [
    "# Importing Libraries\n",
    "\n"
   ]
  },
  {
   "cell_type": "code",
   "execution_count": 2,
   "metadata": {
    "collapsed": true
   },
   "outputs": [],
   "source": [
    "import numpy as np\n",
    "import pandas as pd\n",
    "import matplotlib.pyplot as plt"
   ]
  },
  {
   "cell_type": "markdown",
   "metadata": {},
   "source": [
    "# Importing the training set"
   ]
  },
  {
   "cell_type": "code",
   "execution_count": 94,
   "metadata": {
    "collapsed": true
   },
   "outputs": [],
   "source": [
    "dataset_train = pd.read_csv('Google_Stock_Price_Train.csv')\n",
    "training_set = dataset_train.iloc[:, 1:2].values"
   ]
  },
  {
   "cell_type": "markdown",
   "metadata": {},
   "source": [
    "# feature Scaling"
   ]
  },
  {
   "cell_type": "code",
   "execution_count": 95,
   "metadata": {
    "collapsed": false
   },
   "outputs": [],
   "source": [
    "from sklearn.preprocessing import MinMaxScaler\n",
    "sc = MinMaxScaler()\n",
    "training_set = sc.fit_transform(training_set)"
   ]
  },
  {
   "cell_type": "markdown",
   "metadata": {},
   "source": [
    "# creating a datastructure with 20 time steps and t+1 outputs"
   ]
  },
  {
   "cell_type": "code",
   "execution_count": 96,
   "metadata": {
    "collapsed": true
   },
   "outputs": [],
   "source": [
    "x_train = []\n",
    "y_train = []\n",
    "for i in range(20,1258):\n",
    "    x_train.append(training_set[i-20:i,0])\n",
    "    y_train.append(training_set[i,0])\n",
    "x_train, y_train = np.array(x_train), np.array(y_train)"
   ]
  },
  {
   "cell_type": "markdown",
   "metadata": {},
   "source": [
    "# Reshaping"
   ]
  },
  {
   "cell_type": "code",
   "execution_count": 101,
   "metadata": {
    "collapsed": true
   },
   "outputs": [],
   "source": [
    "x_train = np.reshape(x_train, (x_train.shape[0], x_train.shape[1], 1))"
   ]
  },
  {
   "cell_type": "code",
   "execution_count": 102,
   "metadata": {
    "collapsed": false,
    "scrolled": true
   },
   "outputs": [
    {
     "data": {
      "text/plain": [
       "3"
      ]
     },
     "execution_count": 102,
     "metadata": {},
     "output_type": "execute_result"
    }
   ],
   "source": [
    "x_train.ndim"
   ]
  },
  {
   "cell_type": "code",
   "execution_count": 103,
   "metadata": {
    "collapsed": false
   },
   "outputs": [
    {
     "name": "stdout",
     "output_type": "stream",
     "text": [
      "            Date    Open    High     Low   Close      Volume\n",
      "0       1/3/2012  325.25  332.83  324.97  663.59   7,380,500\n",
      "1       1/4/2012  331.27  333.87  329.08  666.45   5,749,400\n",
      "2       1/5/2012  329.83  330.75  326.89  657.21   6,590,300\n",
      "3       1/6/2012  328.34  328.77  323.68  648.24   5,405,900\n",
      "4       1/9/2012  322.04  322.29  309.46  620.76  11,688,800\n",
      "5      1/10/2012  313.70  315.72  307.30  621.43   8,824,000\n",
      "6      1/11/2012  310.59  313.52  309.40  624.25   4,817,800\n",
      "7      1/12/2012  314.43  315.26  312.08  627.92   3,764,400\n",
      "8      1/13/2012  311.96  312.30  309.37  623.28   4,631,800\n",
      "9      1/17/2012  314.81  314.81  311.67  626.86   3,832,800\n",
      "10     1/18/2012  312.14  315.82  309.90  631.18   5,544,000\n",
      "11     1/19/2012  319.30  319.30  314.55  637.82  12,657,800\n",
      "12     1/20/2012  294.16  294.40  289.76  584.39  21,231,800\n",
      "13     1/23/2012  291.91  293.23  290.49  583.92   6,851,300\n",
      "14     1/24/2012  292.07  292.74  287.92  579.34   6,134,400\n",
      "15     1/25/2012  287.68  288.27  282.13  567.93  10,012,700\n",
      "16     1/26/2012  284.92  286.17  281.22  566.54   6,476,500\n",
      "17     1/27/2012  284.32  289.08  283.60  578.39   7,262,000\n",
      "18     1/30/2012  287.95  288.92  285.63  576.11   4,678,400\n",
      "19     1/31/2012  290.41  290.91  286.50  578.52   4,300,700\n",
      "20      2/1/2012  291.38  291.66  288.49  579.24   4,658,700\n",
      "21      2/2/2012  291.34  292.11  289.95  583.51   4,847,400\n",
      "22      2/3/2012  294.23  297.42  292.93   594.7   6,360,700\n",
      "23      2/6/2012  296.39  304.27  295.90  607.42   7,386,700\n",
      "24      2/7/2012  302.44  303.56  300.75  605.11   4,199,700\n",
      "25      2/8/2012  303.18  304.53  301.24  608.18   3,686,400\n",
      "26      2/9/2012  304.87  306.10  303.36  609.79   4,546,300\n",
      "27     2/10/2012  302.81  302.93  300.87  604.25   4,667,700\n",
      "28     2/13/2012  304.11  305.77  303.87  610.52   3,646,100\n",
      "29     2/14/2012  304.63  304.86  301.25  608.09   3,620,900\n",
      "...          ...     ...     ...     ...     ...         ...\n",
      "1228  11/17/2016  766.92  772.70  764.23  771.23   1,304,000\n",
      "1229  11/18/2016  771.37  775.00  760.00  760.54   1,547,100\n",
      "1230  11/21/2016  762.61  769.70  760.60   769.2   1,330,600\n",
      "1231  11/22/2016  772.63  776.96  767.00  768.27   1,593,100\n",
      "1232  11/23/2016  767.73  768.28  755.25  760.99   1,478,400\n",
      "1233  11/25/2016  764.26  765.00  760.52  761.68     587,400\n",
      "1234  11/28/2016  760.00  779.53  759.80  768.24   2,188,200\n",
      "1235  11/29/2016  771.53  778.50  768.24  770.84   1,616,600\n",
      "1236  11/30/2016  770.07  772.99  754.83  758.04   2,392,900\n",
      "1237   12/1/2016  757.44  759.85  737.03  747.92   3,017,900\n",
      "1238   12/2/2016  744.59  754.00  743.10   750.5   1,452,500\n",
      "1239   12/5/2016  757.71  763.90  752.90  762.52   1,394,200\n",
      "1240   12/6/2016  764.73  768.83  757.34  759.11   1,690,700\n",
      "1241   12/7/2016  761.00  771.36  755.80  771.19   1,761,000\n",
      "1242   12/8/2016  772.48  778.18  767.23  776.42   1,488,100\n",
      "1243   12/9/2016  780.00  789.43  779.02  789.29   1,821,900\n",
      "1244  12/12/2016  785.04  791.25  784.35  789.27   2,104,100\n",
      "1245  12/13/2016  793.90  804.38  793.34   796.1   2,145,200\n",
      "1246  12/14/2016  797.40  804.00  794.01  797.07   1,704,200\n",
      "1247  12/15/2016  797.34  803.00  792.92  797.85   1,626,500\n",
      "1248  12/16/2016  800.40  800.86  790.29   790.8   2,443,800\n",
      "1249  12/19/2016  790.22  797.66  786.27   794.2   1,232,100\n",
      "1250  12/20/2016  796.76  798.65  793.27  796.42     951,000\n",
      "1251  12/21/2016  795.84  796.68  787.10  794.56   1,211,300\n",
      "1252  12/22/2016  792.36  793.32  788.58  791.26     972,200\n",
      "1253  12/23/2016  790.90  792.74  787.28  789.91     623,400\n",
      "1254  12/27/2016  790.68  797.86  787.66  791.55     789,100\n",
      "1255  12/28/2016  793.70  794.23  783.20  785.05   1,153,800\n",
      "1256  12/29/2016  783.33  785.93  778.92  782.79     744,300\n",
      "1257  12/30/2016  782.75  782.78  770.41  771.82   1,770,000\n",
      "\n",
      "[1258 rows x 6 columns]\n"
     ]
    }
   ],
   "source": [
    "print(dataset_train)"
   ]
  },
  {
   "cell_type": "markdown",
   "metadata": {
    "collapsed": false
   },
   "source": [
    "# Building the RNN"
   ]
  },
  {
   "cell_type": "code",
   "execution_count": 104,
   "metadata": {
    "collapsed": false
   },
   "outputs": [],
   "source": [
    "from keras.models import Sequential\n",
    "from keras.layers import Dense\n",
    "from keras.layers import LSTM"
   ]
  },
  {
   "cell_type": "markdown",
   "metadata": {
    "collapsed": true
   },
   "source": [
    "# Intialising the model\n",
    "\n"
   ]
  },
  {
   "cell_type": "code",
   "execution_count": 105,
   "metadata": {
    "collapsed": true
   },
   "outputs": [],
   "source": [
    "regressor = Sequential()"
   ]
  },
  {
   "cell_type": "markdown",
   "metadata": {
    "collapsed": false
   },
   "source": [
    "# Adding the input layer and LSTM layer\n",
    "\n"
   ]
  },
  {
   "cell_type": "code",
   "execution_count": 106,
   "metadata": {
    "collapsed": false
   },
   "outputs": [],
   "source": [
    "regressor.add(LSTM(units = 3,  input_shape = (None,1)))# units = 4 for rnn is good"
   ]
  },
  {
   "cell_type": "markdown",
   "metadata": {
    "collapsed": true
   },
   "source": [
    "#  Adding Output layer\n",
    "\n"
   ]
  },
  {
   "cell_type": "code",
   "execution_count": 107,
   "metadata": {
    "collapsed": true
   },
   "outputs": [],
   "source": [
    "regressor.add(Dense(units = 1)) # units is the shape of timestamp"
   ]
  },
  {
   "cell_type": "markdown",
   "metadata": {
    "collapsed": true
   },
   "source": [
    "# Compiling the RNN\n",
    "\n"
   ]
  },
  {
   "cell_type": "code",
   "execution_count": 108,
   "metadata": {
    "collapsed": true
   },
   "outputs": [],
   "source": [
    "regressor.compile(optimizer = 'rmsprop', loss = 'mean_squared_error')"
   ]
  },
  {
   "cell_type": "markdown",
   "metadata": {
    "collapsed": false
   },
   "source": [
    "# Fitting RNN to the Training set \n",
    "\n"
   ]
  },
  {
   "cell_type": "code",
   "execution_count": 109,
   "metadata": {
    "collapsed": false
   },
   "outputs": [
    {
     "name": "stdout",
     "output_type": "stream",
     "text": [
      "Epoch 1/100\n",
      "1257/1257 [==============================] - 1s 643us/step - loss: 0.2650\n",
      "Epoch 2/100\n",
      "1257/1257 [==============================] - 0s 66us/step - loss: 0.2085\n",
      "Epoch 3/100\n",
      "1257/1257 [==============================] - 0s 67us/step - loss: 0.1594\n",
      "Epoch 4/100\n",
      "1257/1257 [==============================] - 0s 67us/step - loss: 0.1170\n",
      "Epoch 5/100\n",
      "1257/1257 [==============================] - 0s 60us/step - loss: 0.0844\n",
      "Epoch 6/100\n",
      "1257/1257 [==============================] - 0s 65us/step - loss: 0.0625\n",
      "Epoch 7/100\n",
      "1257/1257 [==============================] - 0s 67us/step - loss: 0.0519\n",
      "Epoch 8/100\n",
      "1257/1257 [==============================] - 0s 63us/step - loss: 0.0464\n",
      "Epoch 9/100\n",
      "1257/1257 [==============================] - 0s 69us/step - loss: 0.0412\n",
      "Epoch 10/100\n",
      "1257/1257 [==============================] - 0s 64us/step - loss: 0.0359\n",
      "Epoch 11/100\n",
      "1257/1257 [==============================] - 0s 65us/step - loss: 0.0303\n",
      "Epoch 12/100\n",
      "1257/1257 [==============================] - 0s 66us/step - loss: 0.0244\n",
      "Epoch 13/100\n",
      "1257/1257 [==============================] - 0s 63us/step - loss: 0.0190\n",
      "Epoch 14/100\n",
      "1257/1257 [==============================] - 0s 65us/step - loss: 0.0139\n",
      "Epoch 15/100\n",
      "1257/1257 [==============================] - 0s 59us/step - loss: 0.0091\n",
      "Epoch 16/100\n",
      "1257/1257 [==============================] - 0s 66us/step - loss: 0.0052\n",
      "Epoch 17/100\n",
      "1257/1257 [==============================] - 0s 70us/step - loss: 0.0023\n",
      "Epoch 18/100\n",
      "1257/1257 [==============================] - 0s 81us/step - loss: 7.8481e-04\n",
      "Epoch 19/100\n",
      "1257/1257 [==============================] - 0s 127us/step - loss: 3.7497e-04\n",
      "Epoch 20/100\n",
      "1257/1257 [==============================] - 0s 211us/step - loss: 3.4848e-04\n",
      "Epoch 21/100\n",
      "1257/1257 [==============================] - 0s 237us/step - loss: 3.3447e-04\n",
      "Epoch 22/100\n",
      "1257/1257 [==============================] - 0s 187us/step - loss: 3.2857e-04\n",
      "Epoch 23/100\n",
      "1257/1257 [==============================] - 0s 117us/step - loss: 3.1549e-04\n",
      "Epoch 24/100\n",
      "1257/1257 [==============================] - 0s 88us/step - loss: 3.1072e-04\n",
      "Epoch 25/100\n",
      "1257/1257 [==============================] - 0s 83us/step - loss: 2.9685e-04\n",
      "Epoch 26/100\n",
      "1257/1257 [==============================] - 0s 91us/step - loss: 2.9314e-04\n",
      "Epoch 27/100\n",
      "1257/1257 [==============================] - 0s 83us/step - loss: 2.8686e-04\n",
      "Epoch 28/100\n",
      "1257/1257 [==============================] - 0s 99us/step - loss: 2.8720e-04\n",
      "Epoch 29/100\n",
      "1257/1257 [==============================] - 0s 116us/step - loss: 2.7826e-04\n",
      "Epoch 30/100\n",
      "1257/1257 [==============================] - 0s 123us/step - loss: 2.7786e-04\n",
      "Epoch 31/100\n",
      "1257/1257 [==============================] - 0s 268us/step - loss: 2.7562e-04\n",
      "Epoch 32/100\n",
      "1257/1257 [==============================] - 0s 234us/step - loss: 2.7022e-04\n",
      "Epoch 33/100\n",
      "1257/1257 [==============================] - 0s 170us/step - loss: 2.6803e-04\n",
      "Epoch 34/100\n",
      "1257/1257 [==============================] - 0s 85us/step - loss: 2.6694e-04\n",
      "Epoch 35/100\n",
      "1257/1257 [==============================] - 0s 79us/step - loss: 2.6443e-04\n",
      "Epoch 36/100\n",
      "1257/1257 [==============================] - 0s 83us/step - loss: 2.6280e-04\n",
      "Epoch 37/100\n",
      "1257/1257 [==============================] - 0s 80us/step - loss: 2.6852e-04\n",
      "Epoch 38/100\n",
      "1257/1257 [==============================] - 0s 89us/step - loss: 2.6786e-04\n",
      "Epoch 39/100\n",
      "1257/1257 [==============================] - 0s 100us/step - loss: 2.6004e-04\n",
      "Epoch 40/100\n",
      "1257/1257 [==============================] - 0s 90us/step - loss: 2.6195e-04\n",
      "Epoch 41/100\n",
      "1257/1257 [==============================] - 0s 75us/step - loss: 2.6445e-04\n",
      "Epoch 42/100\n",
      "1257/1257 [==============================] - 0s 81us/step - loss: 2.5994e-04\n",
      "Epoch 43/100\n",
      "1257/1257 [==============================] - 0s 89us/step - loss: 2.6285e-04\n",
      "Epoch 44/100\n",
      "1257/1257 [==============================] - 0s 59us/step - loss: 2.6214e-04\n",
      "Epoch 45/100\n",
      "1257/1257 [==============================] - 0s 65us/step - loss: 2.6307e-04\n",
      "Epoch 46/100\n",
      "1257/1257 [==============================] - 0s 84us/step - loss: 2.6077e-04\n",
      "Epoch 47/100\n",
      "1257/1257 [==============================] - 0s 68us/step - loss: 2.6025e-04\n",
      "Epoch 48/100\n",
      "1257/1257 [==============================] - 0s 70us/step - loss: 2.6001e-04\n",
      "Epoch 49/100\n",
      "1257/1257 [==============================] - 0s 68us/step - loss: 2.5707e-04\n",
      "Epoch 50/100\n",
      "1257/1257 [==============================] - 0s 84us/step - loss: 2.6394e-04\n",
      "Epoch 51/100\n",
      "1257/1257 [==============================] - 0s 71us/step - loss: 2.6285e-04\n",
      "Epoch 52/100\n",
      "1257/1257 [==============================] - 0s 68us/step - loss: 2.6134e-04\n",
      "Epoch 53/100\n",
      "1257/1257 [==============================] - 0s 68us/step - loss: 2.5832e-04\n",
      "Epoch 54/100\n",
      "1257/1257 [==============================] - 0s 68us/step - loss: 2.5984e-04\n",
      "Epoch 55/100\n",
      "1257/1257 [==============================] - 0s 81us/step - loss: 2.6084e-04\n",
      "Epoch 56/100\n",
      "1257/1257 [==============================] - 0s 72us/step - loss: 2.6342e-04\n",
      "Epoch 57/100\n",
      "1257/1257 [==============================] - 0s 67us/step - loss: 2.5843e-04\n",
      "Epoch 58/100\n",
      "1257/1257 [==============================] - 0s 65us/step - loss: 2.6262e-04\n",
      "Epoch 59/100\n",
      "1257/1257 [==============================] - 0s 77us/step - loss: 2.6092e-04\n",
      "Epoch 60/100\n",
      "1257/1257 [==============================] - 0s 70us/step - loss: 2.6243e-04\n",
      "Epoch 61/100\n",
      "1257/1257 [==============================] - 0s 67us/step - loss: 2.5623e-04\n",
      "Epoch 62/100\n",
      "1257/1257 [==============================] - 0s 72us/step - loss: 2.5763e-04\n",
      "Epoch 63/100\n",
      "1257/1257 [==============================] - 0s 77us/step - loss: 2.6444e-04\n",
      "Epoch 64/100\n",
      "1257/1257 [==============================] - 0s 72us/step - loss: 2.6012e-04\n",
      "Epoch 65/100\n",
      "1257/1257 [==============================] - 0s 66us/step - loss: 2.6122e-04\n",
      "Epoch 66/100\n",
      "1257/1257 [==============================] - 0s 71us/step - loss: 2.5803e-04\n",
      "Epoch 67/100\n",
      "1257/1257 [==============================] - 0s 66us/step - loss: 2.6425e-04\n",
      "Epoch 68/100\n",
      "1257/1257 [==============================] - 0s 75us/step - loss: 2.5795e-04\n",
      "Epoch 69/100\n",
      "1257/1257 [==============================] - 0s 68us/step - loss: 2.6000e-04\n",
      "Epoch 70/100\n",
      "1257/1257 [==============================] - 0s 69us/step - loss: 2.6108e-04\n",
      "Epoch 71/100\n",
      "1257/1257 [==============================] - 0s 68us/step - loss: 2.5747e-04\n",
      "Epoch 72/100\n",
      "1257/1257 [==============================] - 0s 92us/step - loss: 2.6280e-04\n",
      "Epoch 73/100\n",
      "1257/1257 [==============================] - 0s 65us/step - loss: 2.5817e-04\n",
      "Epoch 74/100\n",
      "1257/1257 [==============================] - 0s 77us/step - loss: 2.6263e-04\n",
      "Epoch 75/100\n",
      "1257/1257 [==============================] - 0s 75us/step - loss: 2.5842e-04\n",
      "Epoch 76/100\n",
      "1257/1257 [==============================] - 0s 113us/step - loss: 2.6182e-04\n",
      "Epoch 77/100\n",
      "1257/1257 [==============================] - 0s 214us/step - loss: 2.5869e-04\n",
      "Epoch 78/100\n",
      "1257/1257 [==============================] - 0s 215us/step - loss: 2.6030e-04\n",
      "Epoch 79/100\n",
      "1257/1257 [==============================] - 0s 211us/step - loss: 2.6117e-04\n",
      "Epoch 80/100\n",
      "1257/1257 [==============================] - 0s 150us/step - loss: 2.5813e-04\n",
      "Epoch 81/100\n",
      "1257/1257 [==============================] - 0s 105us/step - loss: 2.6325e-04\n",
      "Epoch 82/100\n",
      "1257/1257 [==============================] - 0s 79us/step - loss: 2.6078e-04\n",
      "Epoch 83/100\n",
      "1257/1257 [==============================] - 0s 84us/step - loss: 2.6043e-04\n",
      "Epoch 84/100\n",
      "1257/1257 [==============================] - 0s 78us/step - loss: 2.5927e-04\n",
      "Epoch 85/100\n",
      "1257/1257 [==============================] - 0s 87us/step - loss: 2.5891e-04\n",
      "Epoch 86/100\n",
      "1257/1257 [==============================] - 0s 91us/step - loss: 2.6040e-04\n",
      "Epoch 87/100\n",
      "1257/1257 [==============================] - 0s 83us/step - loss: 2.5984e-04\n",
      "Epoch 88/100\n",
      "1257/1257 [==============================] - 0s 86us/step - loss: 2.6277e-04\n",
      "Epoch 89/100\n",
      "1257/1257 [==============================] - 0s 78us/step - loss: 2.5717e-04\n",
      "Epoch 90/100\n",
      "1257/1257 [==============================] - 0s 67us/step - loss: 2.5938e-04\n",
      "Epoch 91/100\n",
      "1257/1257 [==============================] - 0s 71us/step - loss: 2.5984e-04\n",
      "Epoch 92/100\n",
      "1257/1257 [==============================] - 0s 73us/step - loss: 2.5918e-04\n",
      "Epoch 93/100\n",
      "1257/1257 [==============================] - 0s 111us/step - loss: 2.5831e-04\n",
      "Epoch 94/100\n",
      "1257/1257 [==============================] - 0s 162us/step - loss: 2.5944e-04\n",
      "Epoch 95/100\n",
      "1257/1257 [==============================] - 0s 196us/step - loss: 2.5845e-04\n",
      "Epoch 96/100\n",
      "1257/1257 [==============================] - 0s 199us/step - loss: 2.5953e-04\n",
      "Epoch 97/100\n",
      "1257/1257 [==============================] - 0s 205us/step - loss: 2.5858e-04\n",
      "Epoch 98/100\n",
      "1257/1257 [==============================] - 0s 138us/step - loss: 2.5931e-04\n",
      "Epoch 99/100\n",
      "1257/1257 [==============================] - 0s 107us/step - loss: 2.6030e-04\n",
      "Epoch 100/100\n",
      "1257/1257 [==============================] - 0s 90us/step - loss: 2.5568e-04\n"
     ]
    },
    {
     "data": {
      "text/plain": [
       "<keras.callbacks.History at 0x7fad13eb1358>"
      ]
     },
     "execution_count": 109,
     "metadata": {},
     "output_type": "execute_result"
    }
   ],
   "source": [
    "regressor.fit(x_train,y_train,batch_size = 32 ,epochs = 100)"
   ]
  },
  {
   "cell_type": "markdown",
   "metadata": {
    "collapsed": true
   },
   "source": [
    "# Getting the Real stock price for february 1st 2012 - January 31st 2017\n",
    "\n"
   ]
  },
  {
   "cell_type": "code",
   "execution_count": 110,
   "metadata": {
    "collapsed": false
   },
   "outputs": [],
   "source": [
    "dataset_test = pd.read_csv('Google_Stock_Price_Test.csv')\n",
    "test_set = dataset_test.iloc[:,1:2].values\n",
    "real_price = np.concatenate((training_set[0:1258],test_set),axis = 0)"
   ]
  },
  {
   "cell_type": "code",
   "execution_count": 111,
   "metadata": {
    "collapsed": false
   },
   "outputs": [
    {
     "data": {
      "text/plain": [
       "array([[8.58136766e-02],\n",
       "       [9.70124265e-02],\n",
       "       [9.43336558e-02],\n",
       "       ...,\n",
       "       [8.34710000e+02],\n",
       "       [8.14660000e+02],\n",
       "       [7.96860000e+02]])"
      ]
     },
     "execution_count": 111,
     "metadata": {},
     "output_type": "execute_result"
    }
   ],
   "source": [
    "real_price"
   ]
  },
  {
   "cell_type": "markdown",
   "metadata": {
    "collapsed": true
   },
   "source": [
    "# Getting the predicted stock price of 2017\n",
    "\n"
   ]
  },
  {
   "cell_type": "code",
   "execution_count": 112,
   "metadata": {
    "collapsed": false
   },
   "outputs": [],
   "source": [
    "scaled_real_stock_price = sc.fit_transform(real_price)\n",
    "inputs = []\n",
    "for i in range(1258,1278):\n",
    "    inputs.append(scaled_real_stock_price[i-20:i, 0])\n",
    "inputs = np.array(inputs)\n",
    "inputs = np.reshape(inputs, (inputs.shape[0], inputs.shape[1],1))\n",
    "predicted_price = regressor.predict(inputs)\n",
    "predicted_price =sc.inverse_transform(predicted_price)                "
   ]
  },
  {
   "cell_type": "markdown",
   "metadata": {},
   "source": [
    "# Visualising the data"
   ]
  },
  {
   "cell_type": "code",
   "execution_count": 114,
   "metadata": {
    "collapsed": false
   },
   "outputs": [
    {
     "data": {
      "image/png": "[encoded data removed]",
      "text/plain": [
       "<Figure size 1080x720 with 1 Axes>"
      ]
     },
     "metadata": {},
     "output_type": "display_data"
    }
   ],
   "source": [
    "plt.rcParams['figure.figsize'] = (15,10)\n",
    "plt.plot(real_price[1258:], color = 'red', label = 'Real Google Stock Price')\n",
    "plt.plot(predicted_price, color = 'blue', label = 'Predicted Google Stock Price')\n",
    "plt.title('Google Stock Price Prediction')\n",
    "plt.xlabel('Time')\n",
    "plt.ylabel('Google Stock Price')\n",
    "plt.legend()\n",
    "plt.show()"
   ]
  },
  {
   "cell_type": "code",
   "execution_count": null,
   "metadata": {
    "collapsed": true
   },
   "outputs": [],
   "source": []
  }
 ],
 "metadata": {
  "kernelspec": {
   "display_name": "Python 3",
   "language": "python",
   "name": "python3"
  },
  "language_info": {
   "codemirror_mode": {
    "name": "ipython",
    "version": 3
   },
   "file_extension": ".py",
   "mimetype": "text/x-python",
   "name": "python",
   "nbconvert_exporter": "python",
   "pygments_lexer": "ipython3",
   "version": "3.6.3"
  }
 },
 "nbformat": 4,
 "nbformat_minor": 2
}
