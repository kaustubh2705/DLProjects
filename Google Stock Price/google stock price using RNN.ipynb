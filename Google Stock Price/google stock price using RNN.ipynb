{
 "cells": [
  {
   "cell_type": "markdown",
   "metadata": {
    "collapsed": true
   },
   "source": [
    "# Importing Libraries\n",
    "\n"
   ]
  },
  {
   "cell_type": "code",
   "execution_count": 2,
   "metadata": {
    "collapsed": true
   },
   "outputs": [],
   "source": [
    "import numpy as np\n",
    "import pandas as pd\n",
    "import matplotlib.pyplot as plt"
   ]
  },
  {
   "cell_type": "markdown",
   "metadata": {},
   "source": [
    "# Importing the training set"
   ]
  },
  {
   "cell_type": "code",
   "execution_count": 3,
   "metadata": {
    "collapsed": true
   },
   "outputs": [],
   "source": [
    "dataset_train = pd.read_csv('Google_Stock_Price_Train.csv')\n",
    "training_set = dataset_train.iloc[:, 1:2].values"
   ]
  },
  {
   "cell_type": "code",
   "execution_count": 4,
   "metadata": {
    "collapsed": false
   },
   "outputs": [],
   "source": [
    "from sklearn.preprocessing import MinMaxScaler\n",
    "sc = MinMaxScaler()\n",
    "training_set = sc.fit_transform(training_set)"
   ]
  },
  {
   "cell_type": "code",
   "execution_count": 5,
   "metadata": {
    "collapsed": false
   },
   "outputs": [
    {
     "name": "stdout",
     "output_type": "stream",
     "text": [
      "[[0.08581368]\n",
      " [0.09701243]\n",
      " [0.09433366]\n",
      " ...\n",
      " [0.95725128]\n",
      " [0.93796041]\n",
      " [0.93688146]]\n"
     ]
    }
   ],
   "source": [
    "print(training_set)"
   ]
  },
  {
   "cell_type": "code",
   "execution_count": 6,
   "metadata": {
    "collapsed": false
   },
   "outputs": [
    {
     "name": "stdout",
     "output_type": "stream",
     "text": [
      "            Date    Open    High     Low   Close      Volume\n",
      "0       1/3/2012  325.25  332.83  324.97  663.59   7,380,500\n",
      "1       1/4/2012  331.27  333.87  329.08  666.45   5,749,400\n",
      "2       1/5/2012  329.83  330.75  326.89  657.21   6,590,300\n",
      "3       1/6/2012  328.34  328.77  323.68  648.24   5,405,900\n",
      "4       1/9/2012  322.04  322.29  309.46  620.76  11,688,800\n",
      "5      1/10/2012  313.70  315.72  307.30  621.43   8,824,000\n",
      "6      1/11/2012  310.59  313.52  309.40  624.25   4,817,800\n",
      "7      1/12/2012  314.43  315.26  312.08  627.92   3,764,400\n",
      "8      1/13/2012  311.96  312.30  309.37  623.28   4,631,800\n",
      "9      1/17/2012  314.81  314.81  311.67  626.86   3,832,800\n",
      "10     1/18/2012  312.14  315.82  309.90  631.18   5,544,000\n",
      "11     1/19/2012  319.30  319.30  314.55  637.82  12,657,800\n",
      "12     1/20/2012  294.16  294.40  289.76  584.39  21,231,800\n",
      "13     1/23/2012  291.91  293.23  290.49  583.92   6,851,300\n",
      "14     1/24/2012  292.07  292.74  287.92  579.34   6,134,400\n",
      "15     1/25/2012  287.68  288.27  282.13  567.93  10,012,700\n",
      "16     1/26/2012  284.92  286.17  281.22  566.54   6,476,500\n",
      "17     1/27/2012  284.32  289.08  283.60  578.39   7,262,000\n",
      "18     1/30/2012  287.95  288.92  285.63  576.11   4,678,400\n",
      "19     1/31/2012  290.41  290.91  286.50  578.52   4,300,700\n",
      "20      2/1/2012  291.38  291.66  288.49  579.24   4,658,700\n",
      "21      2/2/2012  291.34  292.11  289.95  583.51   4,847,400\n",
      "22      2/3/2012  294.23  297.42  292.93   594.7   6,360,700\n",
      "23      2/6/2012  296.39  304.27  295.90  607.42   7,386,700\n",
      "24      2/7/2012  302.44  303.56  300.75  605.11   4,199,700\n",
      "25      2/8/2012  303.18  304.53  301.24  608.18   3,686,400\n",
      "26      2/9/2012  304.87  306.10  303.36  609.79   4,546,300\n",
      "27     2/10/2012  302.81  302.93  300.87  604.25   4,667,700\n",
      "28     2/13/2012  304.11  305.77  303.87  610.52   3,646,100\n",
      "29     2/14/2012  304.63  304.86  301.25  608.09   3,620,900\n",
      "...          ...     ...     ...     ...     ...         ...\n",
      "1228  11/17/2016  766.92  772.70  764.23  771.23   1,304,000\n",
      "1229  11/18/2016  771.37  775.00  760.00  760.54   1,547,100\n",
      "1230  11/21/2016  762.61  769.70  760.60   769.2   1,330,600\n",
      "1231  11/22/2016  772.63  776.96  767.00  768.27   1,593,100\n",
      "1232  11/23/2016  767.73  768.28  755.25  760.99   1,478,400\n",
      "1233  11/25/2016  764.26  765.00  760.52  761.68     587,400\n",
      "1234  11/28/2016  760.00  779.53  759.80  768.24   2,188,200\n",
      "1235  11/29/2016  771.53  778.50  768.24  770.84   1,616,600\n",
      "1236  11/30/2016  770.07  772.99  754.83  758.04   2,392,900\n",
      "1237   12/1/2016  757.44  759.85  737.03  747.92   3,017,900\n",
      "1238   12/2/2016  744.59  754.00  743.10   750.5   1,452,500\n",
      "1239   12/5/2016  757.71  763.90  752.90  762.52   1,394,200\n",
      "1240   12/6/2016  764.73  768.83  757.34  759.11   1,690,700\n",
      "1241   12/7/2016  761.00  771.36  755.80  771.19   1,761,000\n",
      "1242   12/8/2016  772.48  778.18  767.23  776.42   1,488,100\n",
      "1243   12/9/2016  780.00  789.43  779.02  789.29   1,821,900\n",
      "1244  12/12/2016  785.04  791.25  784.35  789.27   2,104,100\n",
      "1245  12/13/2016  793.90  804.38  793.34   796.1   2,145,200\n",
      "1246  12/14/2016  797.40  804.00  794.01  797.07   1,704,200\n",
      "1247  12/15/2016  797.34  803.00  792.92  797.85   1,626,500\n",
      "1248  12/16/2016  800.40  800.86  790.29   790.8   2,443,800\n",
      "1249  12/19/2016  790.22  797.66  786.27   794.2   1,232,100\n",
      "1250  12/20/2016  796.76  798.65  793.27  796.42     951,000\n",
      "1251  12/21/2016  795.84  796.68  787.10  794.56   1,211,300\n",
      "1252  12/22/2016  792.36  793.32  788.58  791.26     972,200\n",
      "1253  12/23/2016  790.90  792.74  787.28  789.91     623,400\n",
      "1254  12/27/2016  790.68  797.86  787.66  791.55     789,100\n",
      "1255  12/28/2016  793.70  794.23  783.20  785.05   1,153,800\n",
      "1256  12/29/2016  783.33  785.93  778.92  782.79     744,300\n",
      "1257  12/30/2016  782.75  782.78  770.41  771.82   1,770,000\n",
      "\n",
      "[1258 rows x 6 columns]\n"
     ]
    }
   ],
   "source": [
    "print(dataset_train)"
   ]
  },
  {
   "cell_type": "code",
   "execution_count": 7,
   "metadata": {
    "collapsed": false
   },
   "outputs": [],
   "source": [
    "x_train = training_set[0:1257]\n",
    "y_train = training_set[1:1258]"
   ]
  },
  {
   "cell_type": "markdown",
   "metadata": {
    "collapsed": false
   },
   "source": [
    "# reshaping the x_train for the time step factor\n",
    "\n"
   ]
  },
  {
   "cell_type": "code",
   "execution_count": 23,
   "metadata": {
    "collapsed": false
   },
   "outputs": [],
   "source": [
    "x_train = np.reshape(x_train,(1257,1,1))  # (no. of observations,timestep, features)"
   ]
  },
  {
   "cell_type": "code",
   "execution_count": 24,
   "metadata": {
    "collapsed": false
   },
   "outputs": [
    {
     "data": {
      "text/plain": [
       "3"
      ]
     },
     "execution_count": 24,
     "metadata": {},
     "output_type": "execute_result"
    }
   ],
   "source": [
    "x_train.ndim"
   ]
  },
  {
   "cell_type": "code",
   "execution_count": 25,
   "metadata": {
    "collapsed": false
   },
   "outputs": [
    {
     "data": {
      "text/plain": [
       "array([[[0.08581368]],\n",
       "\n",
       "       [[0.09701243]],\n",
       "\n",
       "       [[0.09433366]],\n",
       "\n",
       "       ...,\n",
       "\n",
       "       [[0.95163331]],\n",
       "\n",
       "       [[0.95725128]],\n",
       "\n",
       "       [[0.93796041]]])"
      ]
     },
     "execution_count": 25,
     "metadata": {},
     "output_type": "execute_result"
    }
   ],
   "source": [
    "x_train"
   ]
  },
  {
   "cell_type": "code",
   "execution_count": 29,
   "metadata": {
    "collapsed": false
   },
   "outputs": [],
   "source": [
    "from keras.models import Sequential\n",
    "from keras.layers import Dense\n",
    "from keras.layers import LSTM"
   ]
  },
  {
   "cell_type": "markdown",
   "metadata": {
    "collapsed": true
   },
   "source": [
    "# Intialising the model\n",
    "\n"
   ]
  },
  {
   "cell_type": "code",
   "execution_count": 30,
   "metadata": {
    "collapsed": true
   },
   "outputs": [],
   "source": [
    "regressor = Sequential()"
   ]
  },
  {
   "cell_type": "markdown",
   "metadata": {
    "collapsed": false
   },
   "source": [
    "# Adding the input layer and LSTM layer\n",
    "\n"
   ]
  },
  {
   "cell_type": "code",
   "execution_count": 31,
   "metadata": {
    "collapsed": false
   },
   "outputs": [],
   "source": [
    "regressor.add(LSTM(units = 4, activation = 'sigmoid', input_shape = (None,1)))# units = 4 for rnn is good"
   ]
  },
  {
   "cell_type": "markdown",
   "metadata": {
    "collapsed": true
   },
   "source": [
    "#  Adding Output layer\n",
    "\n"
   ]
  },
  {
   "cell_type": "code",
   "execution_count": 32,
   "metadata": {
    "collapsed": true
   },
   "outputs": [],
   "source": [
    "regressor.add(Dense(units = 1)) # units is the shape of timestamp"
   ]
  },
  {
   "cell_type": "markdown",
   "metadata": {
    "collapsed": true
   },
   "source": [
    "# Compiling the RNN\n",
    "\n"
   ]
  },
  {
   "cell_type": "code",
   "execution_count": 33,
   "metadata": {
    "collapsed": true
   },
   "outputs": [],
   "source": [
    "regressor.compile(optimizer = 'adam', loss = 'mean_squared_error')"
   ]
  },
  {
   "cell_type": "markdown",
   "metadata": {
    "collapsed": false
   },
   "source": [
    "# Fitting RNN to the Training set \n",
    "\n"
   ]
  },
  {
   "cell_type": "code",
   "execution_count": 34,
   "metadata": {
    "collapsed": false
   },
   "outputs": [
    {
     "ename": "ValueError",
     "evalue": "Error when checking target: expected dense_3 to have shape (20,) but got array with shape (1,)",
     "output_type": "error",
     "traceback": [
      "\u001b[0;31m---------------------------------------------------------------------------\u001b[0m",
      "\u001b[0;31mValueError\u001b[0m                                Traceback (most recent call last)",
      "\u001b[0;32m<ipython-input-34-9d03f8299770>\u001b[0m in \u001b[0;36m<module>\u001b[0;34m()\u001b[0m\n\u001b[0;32m----> 1\u001b[0;31m \u001b[0mregressor\u001b[0m\u001b[0;34m.\u001b[0m\u001b[0mfit\u001b[0m\u001b[0;34m(\u001b[0m\u001b[0mx_train\u001b[0m\u001b[0;34m,\u001b[0m\u001b[0my_train\u001b[0m\u001b[0;34m,\u001b[0m\u001b[0mbatch_size\u001b[0m \u001b[0;34m=\u001b[0m \u001b[0;36m32\u001b[0m \u001b[0;34m,\u001b[0m\u001b[0mepochs\u001b[0m \u001b[0;34m=\u001b[0m \u001b[0;36m200\u001b[0m\u001b[0;34m)\u001b[0m\u001b[0;34m\u001b[0m\u001b[0m\n\u001b[0m",
      "\u001b[0;32m~/.local/lib/python3.6/site-packages/keras/engine/training.py\u001b[0m in \u001b[0;36mfit\u001b[0;34m(self, x, y, batch_size, epochs, verbose, callbacks, validation_split, validation_data, shuffle, class_weight, sample_weight, initial_epoch, steps_per_epoch, validation_steps, **kwargs)\u001b[0m\n\u001b[1;32m    948\u001b[0m             \u001b[0msample_weight\u001b[0m\u001b[0;34m=\u001b[0m\u001b[0msample_weight\u001b[0m\u001b[0;34m,\u001b[0m\u001b[0;34m\u001b[0m\u001b[0m\n\u001b[1;32m    949\u001b[0m             \u001b[0mclass_weight\u001b[0m\u001b[0;34m=\u001b[0m\u001b[0mclass_weight\u001b[0m\u001b[0;34m,\u001b[0m\u001b[0;34m\u001b[0m\u001b[0m\n\u001b[0;32m--> 950\u001b[0;31m             batch_size=batch_size)\n\u001b[0m\u001b[1;32m    951\u001b[0m         \u001b[0;31m# Prepare validation data.\u001b[0m\u001b[0;34m\u001b[0m\u001b[0;34m\u001b[0m\u001b[0m\n\u001b[1;32m    952\u001b[0m         \u001b[0mdo_validation\u001b[0m \u001b[0;34m=\u001b[0m \u001b[0;32mFalse\u001b[0m\u001b[0;34m\u001b[0m\u001b[0m\n",
      "\u001b[0;32m~/.local/lib/python3.6/site-packages/keras/engine/training.py\u001b[0m in \u001b[0;36m_standardize_user_data\u001b[0;34m(self, x, y, sample_weight, class_weight, check_array_lengths, batch_size)\u001b[0m\n\u001b[1;32m    785\u001b[0m                 \u001b[0mfeed_output_shapes\u001b[0m\u001b[0;34m,\u001b[0m\u001b[0;34m\u001b[0m\u001b[0m\n\u001b[1;32m    786\u001b[0m                 \u001b[0mcheck_batch_axis\u001b[0m\u001b[0;34m=\u001b[0m\u001b[0;32mFalse\u001b[0m\u001b[0;34m,\u001b[0m  \u001b[0;31m# Don't enforce the batch size.\u001b[0m\u001b[0;34m\u001b[0m\u001b[0m\n\u001b[0;32m--> 787\u001b[0;31m                 exception_prefix='target')\n\u001b[0m\u001b[1;32m    788\u001b[0m \u001b[0;34m\u001b[0m\u001b[0m\n\u001b[1;32m    789\u001b[0m             \u001b[0;31m# Generate sample-wise weight values given the `sample_weight` and\u001b[0m\u001b[0;34m\u001b[0m\u001b[0;34m\u001b[0m\u001b[0m\n",
      "\u001b[0;32m~/.local/lib/python3.6/site-packages/keras/engine/training_utils.py\u001b[0m in \u001b[0;36mstandardize_input_data\u001b[0;34m(data, names, shapes, check_batch_axis, exception_prefix)\u001b[0m\n\u001b[1;32m    135\u001b[0m                             \u001b[0;34m': expected '\u001b[0m \u001b[0;34m+\u001b[0m \u001b[0mnames\u001b[0m\u001b[0;34m[\u001b[0m\u001b[0mi\u001b[0m\u001b[0;34m]\u001b[0m \u001b[0;34m+\u001b[0m \u001b[0;34m' to have shape '\u001b[0m \u001b[0;34m+\u001b[0m\u001b[0;34m\u001b[0m\u001b[0m\n\u001b[1;32m    136\u001b[0m                             \u001b[0mstr\u001b[0m\u001b[0;34m(\u001b[0m\u001b[0mshape\u001b[0m\u001b[0;34m)\u001b[0m \u001b[0;34m+\u001b[0m \u001b[0;34m' but got array with shape '\u001b[0m \u001b[0;34m+\u001b[0m\u001b[0;34m\u001b[0m\u001b[0m\n\u001b[0;32m--> 137\u001b[0;31m                             str(data_shape))\n\u001b[0m\u001b[1;32m    138\u001b[0m     \u001b[0;32mreturn\u001b[0m \u001b[0mdata\u001b[0m\u001b[0;34m\u001b[0m\u001b[0m\n\u001b[1;32m    139\u001b[0m \u001b[0;34m\u001b[0m\u001b[0m\n",
      "\u001b[0;31mValueError\u001b[0m: Error when checking target: expected dense_3 to have shape (20,) but got array with shape (1,)"
     ]
    }
   ],
   "source": [
    "regressor.fit(x_train,y_train,batch_size = 32 ,epochs = 200)"
   ]
  },
  {
   "cell_type": "markdown",
   "metadata": {
    "collapsed": true
   },
   "source": [
    "# Getting the Real stock price of 2017\n",
    "\n"
   ]
  },
  {
   "cell_type": "code",
   "execution_count": 18,
   "metadata": {
    "collapsed": true
   },
   "outputs": [],
   "source": [
    "test_set = pd.read_csv('Google_Stock_Price_Test.csv')\n",
    "real_price = test_set.iloc[:,1:2].values"
   ]
  },
  {
   "cell_type": "code",
   "execution_count": 19,
   "metadata": {
    "collapsed": false
   },
   "outputs": [
    {
     "data": {
      "text/plain": [
       "array([[778.81],\n",
       "       [788.36],\n",
       "       [786.08],\n",
       "       [795.26],\n",
       "       [806.4 ],\n",
       "       [807.86],\n",
       "       [805.  ],\n",
       "       [807.14],\n",
       "       [807.48],\n",
       "       [807.08],\n",
       "       [805.81],\n",
       "       [805.12],\n",
       "       [806.91],\n",
       "       [807.25],\n",
       "       [822.3 ],\n",
       "       [829.62],\n",
       "       [837.81],\n",
       "       [834.71],\n",
       "       [814.66],\n",
       "       [796.86]])"
      ]
     },
     "execution_count": 19,
     "metadata": {},
     "output_type": "execute_result"
    }
   ],
   "source": [
    "real_price"
   ]
  },
  {
   "cell_type": "markdown",
   "metadata": {
    "collapsed": true
   },
   "source": [
    "# Prediction\n",
    "\n"
   ]
  },
  {
   "cell_type": "code",
   "execution_count": 20,
   "metadata": {
    "collapsed": true
   },
   "outputs": [],
   "source": [
    "inputs = real_price\n",
    "inputs = sc.transform(inputs)\n",
    "inputs = np.reshape(inputs,(20,1,1))\n",
    "predicted_price = regressor.predict(inputs)\n",
    "predicted_price = sc.inverse_transform(predicted_price)"
   ]
  },
  {
   "cell_type": "markdown",
   "metadata": {},
   "source": [
    "# Visualising the data"
   ]
  },
  {
   "cell_type": "code",
   "execution_count": 21,
   "metadata": {
    "collapsed": false
   },
   "outputs": [
    {
     "data": {
      "image/png": "[encoded data removed]",
      "text/plain": [
       "<Figure size 432x288 with 1 Axes>"
      ]
     },
     "metadata": {},
     "output_type": "display_data"
    }
   ],
   "source": [
    "plt.plot(real_price, color = 'red', label = \"Real stock Price\")\n",
    "plt.plot(predicted_price, color = 'blue', label = \"Predicted stock price\")\n",
    "plt.title(\"google stock price\")\n",
    "plt.xlabel(\"Time\")\n",
    "plt.ylabel(\"google stock price\")\n",
    "plt.legend()\n",
    "plt.show()"
   ]
  },
  {
   "cell_type": "code",
   "execution_count": null,
   "metadata": {
    "collapsed": true
   },
   "outputs": [],
   "source": []
  }
 ],
 "metadata": {
  "kernelspec": {
   "display_name": "Python 3",
   "language": "python",
   "name": "python3"
  },
  "language_info": {
   "codemirror_mode": {
    "name": "ipython",
    "version": 3
   },
   "file_extension": ".py",
   "mimetype": "text/x-python",
   "name": "python",
   "nbconvert_exporter": "python",
   "pygments_lexer": "ipython3",
   "version": "3.6.3"
  }
 },
 "nbformat": 4,
 "nbformat_minor": 2
}
