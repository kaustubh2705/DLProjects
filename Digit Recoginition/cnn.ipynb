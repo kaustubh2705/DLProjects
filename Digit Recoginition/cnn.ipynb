{
 "cells": [
  {
   "cell_type": "code",
   "execution_count": 6,
   "metadata": {
    "collapsed": false
   },
   "outputs": [],
   "source": [
    "#importing the dataset\n",
    "\n",
    "import pandas as pd\n",
    "train = pd.read_csv('/home/kaustubh/Downloads/digit/train.csv')\n",
    "test = pd.read_csv('/home/kaustubh/Downloads/digit/Test.csv')\n",
    "x_train = train.iloc[:, 0].values\n",
    "y_train = train.iloc[:, 1].values\n",
    "x_test = test.iloc[:, 0].values\n"
   ]
  },
  {
   "cell_type": "code",
   "execution_count": 7,
   "metadata": {
    "collapsed": false
   },
   "outputs": [
    {
     "name": "stdout",
     "output_type": "stream",
     "text": [
      "['0.png' '1.png' '2.png' ... '48997.png' '48998.png' '48999.png']\n",
      "[4 9 1 ... 9 3 0]\n",
      "['49000.png' '49001.png' '49002.png' ... '69997.png' '69998.png'\n",
      " '69999.png']\n"
     ]
    }
   ],
   "source": [
    "print(x_train)\n",
    "print(y_train)\n",
    "print(x_test)"
   ]
  },
  {
   "cell_type": "code",
   "execution_count": 8,
   "metadata": {
    "collapsed": false
   },
   "outputs": [
    {
     "name": "stderr",
     "output_type": "stream",
     "text": [
      "Using TensorFlow backend.\n"
     ]
    }
   ],
   "source": [
    "#converting it into matrix form\n",
    "\n",
    "from keras.utils import np_utils\n",
    "y_train = np_utils.to_categorical(y_train)"
   ]
  },
  {
   "cell_type": "code",
   "execution_count": 10,
   "metadata": {
    "collapsed": false
   },
   "outputs": [
    {
     "name": "stdout",
     "output_type": "stream",
     "text": [
      "[[0. 0. 0. ... 0. 0. 0.]\n",
      " [0. 0. 0. ... 0. 0. 1.]\n",
      " [0. 1. 0. ... 0. 0. 0.]\n",
      " ...\n",
      " [0. 0. 0. ... 0. 0. 1.]\n",
      " [0. 0. 0. ... 0. 0. 0.]\n",
      " [1. 0. 0. ... 0. 0. 0.]]\n"
     ]
    }
   ],
   "source": [
    "print(y_train)"
   ]
  },
  {
   "cell_type": "code",
   "execution_count": 11,
   "metadata": {
    "collapsed": true
   },
   "outputs": [],
   "source": [
    "#converting image data in the form of array \n",
    "import numpy as np\n",
    "from scipy.misc import imread"
   ]
  },
  {
   "cell_type": "code",
   "execution_count": 12,
   "metadata": {
    "collapsed": true
   },
   "outputs": [],
   "source": [
    "seed = 128\n",
    "rng =  np.random.RandomState(seed)"
   ]
  },
  {
   "cell_type": "code",
   "execution_count": 13,
   "metadata": {
    "collapsed": false
   },
   "outputs": [
    {
     "name": "stderr",
     "output_type": "stream",
     "text": [
      "/home/kaustubh/.local/lib/python3.6/site-packages/ipykernel_launcher.py:3: DeprecationWarning: `imread` is deprecated!\n",
      "`imread` is deprecated in SciPy 1.0.0, and will be removed in 1.2.0.\n",
      "Use ``imageio.imread`` instead.\n",
      "  This is separate from the ipykernel package so we can avoid doing imports until\n"
     ]
    }
   ],
   "source": [
    "img_name = rng.choice(train.filename)\n",
    "filepath = \"/home/kaustubh/Downloads/digit/Images/test/49000.png\"\n",
    "img = imread(filepath, flatten=True)"
   ]
  },
  {
   "cell_type": "code",
   "execution_count": 14,
   "metadata": {
    "collapsed": false,
    "scrolled": true
   },
   "outputs": [
    {
     "data": {
      "text/plain": [
       "array([[  0.,   0.,   0.,   0.,   0.,   0.,   0.,   0.,   0.,   0.,   0.,\n",
       "          0.,   0.,   0.,   0.,   0.,   0.,   0.,   0.,   0.,   0.,   0.,\n",
       "          0.,   0.,   0.,   0.,   0.,   0.],\n",
       "       [  0.,   0.,   0.,   0.,   0.,   0.,   0.,   0.,   0.,   0.,   0.,\n",
       "          0.,   0.,   0.,   0.,   0.,   0.,   0.,   0.,   0.,   0.,   0.,\n",
       "          0.,   0.,   0.,   0.,   0.,   0.],\n",
       "       [  0.,   0.,   0.,   0.,   0.,   0.,   0.,   0.,   0.,   0.,   0.,\n",
       "          0.,   0.,   0.,   0.,   0.,   0.,   0.,   0.,   0.,   0.,   0.,\n",
       "          0.,   0.,   0.,   0.,   0.,   0.],\n",
       "       [  0.,   0.,   0.,   0.,   0.,   0.,   0.,   0.,   0.,   0.,   0.,\n",
       "          0.,   0.,   0.,   0.,   0.,   0.,   0.,   0.,   0.,   0.,   0.,\n",
       "          0.,   0.,   0.,   0.,   0.,   0.],\n",
       "       [  0.,   0.,   0.,   0.,   0.,   0.,   0.,   0.,   0.,   0.,   0.,\n",
       "          0.,   0.,   0.,   0.,   0.,   0.,   0.,   0.,   0.,   0.,   0.,\n",
       "          0.,   0.,   0.,   0.,   0.,   0.],\n",
       "       [  0.,   0.,   0.,   0.,   0.,   0.,   0.,   0.,   0.,   0.,   5.,\n",
       "        179.,  81.,   0.,   0.,   0.,   0.,   0.,   0.,   0.,   0.,   0.,\n",
       "         19., 163.,   6.,   0.,   0.,   0.],\n",
       "       [  0.,   0.,   0.,   0.,   0.,   0.,   0.,   0.,   0.,   0.,  40.,\n",
       "        227., 138.,   0.,   0.,   0.,   0.,   0.,   0.,   0.,   0.,   0.,\n",
       "        191., 254.,  38.,   0.,   0.,   0.],\n",
       "       [  0.,   0.,   0.,   0.,   0.,   0.,   0.,   0.,   0.,   0., 120.,\n",
       "        254., 167.,   0.,   0.,   0.,   0.,   0.,   0.,   0.,   2., 140.,\n",
       "        254., 254.,  38.,   0.,   0.,   0.],\n",
       "       [  0.,   0.,   0.,   0.,   0.,   0.,   0.,   0.,   0.,   0., 120.,\n",
       "        254., 167.,   0.,   0.,   0.,   0.,   0.,   0.,   0.,  65., 254.,\n",
       "        254., 242.,  31.,   0.,   0.,   0.],\n",
       "       [  0.,   0.,   0.,   0.,   0.,   0.,   0.,   0.,   0.,  27., 163.,\n",
       "        254., 167.,   0.,   0.,   0.,   0.,   0.,   0.,   0., 101., 254.,\n",
       "        254., 149.,   0.,   0.,   0.,   0.],\n",
       "       [  0.,   0.,   0.,   0.,   0.,   0.,   0.,   0.,   0., 131., 254.,\n",
       "        231.,  43.,   0.,   0.,   0.,   0.,   0.,   0.,  13., 211., 254.,\n",
       "        253.,  72.,   0.,   0.,   0.,   0.],\n",
       "       [  0.,   0.,   0.,   0.,   0.,   0.,   0.,   0.,  48., 230., 254.,\n",
       "        205.,   0.,   0.,   0.,   0.,   0.,   0.,   0., 116., 254., 254.,\n",
       "        222.,   0.,   0.,   0.,   0.,   0.],\n",
       "       [  0.,   0.,   0.,   0.,   0.,   0.,   0.,   5., 231., 254., 251.,\n",
       "         89.,   0.,   0.,   0.,  32.,  88.,  88., 175., 252., 254., 254.,\n",
       "        138.,   0.,   0.,   0.,   0.,   0.],\n",
       "       [  0.,   0.,   0.,   0.,   0.,   0.,  38., 174., 254., 254., 254.,\n",
       "        213., 209., 234., 234., 241., 254., 254., 254., 254., 254., 254.,\n",
       "        113.,   0.,   0.,   0.,   0.,   0.],\n",
       "       [  0.,   0.,   0.,   0.,   0.,   9., 161., 254., 254., 254., 254.,\n",
       "        254., 254., 254., 254., 254., 254., 254., 254., 254., 241., 156.,\n",
       "         40.,   0.,   0.,   0.,   0.,   0.],\n",
       "       [  0.,   0.,   0.,   0.,   0., 125., 254., 254., 254., 254., 254.,\n",
       "        254., 254., 254., 254., 254., 254., 254., 254., 193.,  40.,   0.,\n",
       "          0.,   0.,   0.,   0.,   0.,   0.],\n",
       "       [  0.,   0.,   0.,   0.,   0., 147., 254., 254., 251., 233., 181.,\n",
       "        125.,  87.,  16.,  16., 103., 254., 254., 195.,  58.,   0.,   0.,\n",
       "          0.,   0.,   0.,   0.,   0.,   0.],\n",
       "       [  0.,   0.,   0.,   0.,   0., 147., 254., 200.,  72.,   0.,   0.,\n",
       "          0.,   0.,   0.,  13., 177., 254., 240.,  36.,   0.,   0.,   0.,\n",
       "          0.,   0.,   0.,   0.,   0.,   0.],\n",
       "       [  0.,   0.,   0.,   0.,   0.,  28.,  48.,   6.,   0.,   0.,   0.,\n",
       "          0.,   0.,   0., 142., 254., 254., 153.,   0.,   0.,   0.,   0.,\n",
       "          0.,   0.,   0.,   0.,   0.,   0.],\n",
       "       [  0.,   0.,   0.,   0.,   0.,   0.,   0.,   0.,   0.,   0.,   0.,\n",
       "          0.,   0.,   9., 211., 254., 222.,   4.,   0.,   0.,   0.,   0.,\n",
       "          0.,   0.,   0.,   0.,   0.,   0.],\n",
       "       [  0.,   0.,   0.,   0.,   0.,   0.,   0.,   0.,   0.,   0.,   0.,\n",
       "          0.,   0., 119., 255., 254.,  97.,   0.,   0.,   0.,   0.,   0.,\n",
       "          0.,   0.,   0.,   0.,   0.,   0.],\n",
       "       [  0.,   0.,   0.,   0.,   0.,   0.,   0.,   0.,   0.,   0.,   0.,\n",
       "          0.,   0., 234., 254., 177.,   3.,   0.,   0.,   0.,   0.,   0.,\n",
       "          0.,   0.,   0.,   0.,   0.,   0.],\n",
       "       [  0.,   0.,   0.,   0.,   0.,   0.,   0.,   0.,   0.,   0.,   0.,\n",
       "          0., 100., 254., 248.,  95.,   0.,   0.,   0.,   0.,   0.,   0.,\n",
       "          0.,   0.,   0.,   0.,   0.,   0.],\n",
       "       [  0.,   0.,   0.,   0.,   0.,   0.,   0.,   0.,   0.,   0.,   0.,\n",
       "          0., 120., 254., 124.,   0.,   0.,   0.,   0.,   0.,   0.,   0.,\n",
       "          0.,   0.,   0.,   0.,   0.,   0.],\n",
       "       [  0.,   0.,   0.,   0.,   0.,   0.,   0.,   0.,   0.,   0.,   0.,\n",
       "          0., 133., 254.,  92.,   0.,   0.,   0.,   0.,   0.,   0.,   0.,\n",
       "          0.,   0.,   0.,   0.,   0.,   0.],\n",
       "       [  0.,   0.,   0.,   0.,   0.,   0.,   0.,   0.,   0.,   0.,   0.,\n",
       "          0.,   0.,   0.,   0.,   0.,   0.,   0.,   0.,   0.,   0.,   0.,\n",
       "          0.,   0.,   0.,   0.,   0.,   0.],\n",
       "       [  0.,   0.,   0.,   0.,   0.,   0.,   0.,   0.,   0.,   0.,   0.,\n",
       "          0.,   0.,   0.,   0.,   0.,   0.,   0.,   0.,   0.,   0.,   0.,\n",
       "          0.,   0.,   0.,   0.,   0.,   0.],\n",
       "       [  0.,   0.,   0.,   0.,   0.,   0.,   0.,   0.,   0.,   0.,   0.,\n",
       "          0.,   0.,   0.,   0.,   0.,   0.,   0.,   0.,   0.,   0.,   0.,\n",
       "          0.,   0.,   0.,   0.,   0.,   0.]], dtype=float32)"
      ]
     },
     "execution_count": 14,
     "metadata": {},
     "output_type": "execute_result"
    }
   ],
   "source": [
    "img"
   ]
  },
  {
   "cell_type": "code",
   "execution_count": 16,
   "metadata": {
    "collapsed": false
   },
   "outputs": [
    {
     "name": "stderr",
     "output_type": "stream",
     "text": [
      "/home/kaustubh/.local/lib/python3.6/site-packages/ipykernel_launcher.py:5: DeprecationWarning: `imread` is deprecated!\n",
      "`imread` is deprecated in SciPy 1.0.0, and will be removed in 1.2.0.\n",
      "Use ``imageio.imread`` instead.\n",
      "  \"\"\"\n"
     ]
    }
   ],
   "source": [
    "#preprocessing training data\n",
    "temp = []\n",
    "for img_name in train.filename:\n",
    "    image_path = \"/home/kaustubh/Downloads/digit/Images/train/\"+img_name\n",
    "    img = imread(image_path, flatten = True)\n",
    "    img = img.astype('float32')\n",
    "    temp.append(img)"
   ]
  },
  {
   "cell_type": "code",
   "execution_count": 17,
   "metadata": {
    "collapsed": true
   },
   "outputs": [],
   "source": [
    "train_x = np.stack(temp)\n",
    "train_x /= 255.0\n",
    "train_x = train_x.reshape(-1,784).astype('float32')"
   ]
  },
  {
   "cell_type": "code",
   "execution_count": 19,
   "metadata": {
    "collapsed": false
   },
   "outputs": [
    {
     "name": "stderr",
     "output_type": "stream",
     "text": [
      "/home/kaustubh/.local/lib/python3.6/site-packages/ipykernel_launcher.py:5: DeprecationWarning: `imread` is deprecated!\n",
      "`imread` is deprecated in SciPy 1.0.0, and will be removed in 1.2.0.\n",
      "Use ``imageio.imread`` instead.\n",
      "  \"\"\"\n"
     ]
    }
   ],
   "source": [
    "#preprocessing testing data\n",
    "temp = []\n",
    "for img_name in test.filename:\n",
    "    image_path = \"/home/kaustubh/Downloads/digit/Images/test/\"+img_name\n",
    "    img = imread(image_path, flatten = True)\n",
    "    img = img.astype('float32')\n",
    "    temp.append(img)\n",
    "\n",
    "test_x = np.stack(temp)\n",
    "test_x /= 255.0\n",
    "test_x = test_x.reshape(-1,784).astype('float32')"
   ]
  },
  {
   "cell_type": "code",
   "execution_count": 20,
   "metadata": {
    "collapsed": true
   },
   "outputs": [],
   "source": [
    "#reshape the data for convolution\n",
    "train_x_temp = train_x.reshape(-1,28,28,1)\n"
   ]
  },
  {
   "cell_type": "code",
   "execution_count": 21,
   "metadata": {
    "collapsed": false
   },
   "outputs": [
    {
     "name": "stderr",
     "output_type": "stream",
     "text": [
      "/home/kaustubh/.local/lib/python3.6/site-packages/ipykernel_launcher.py:26: UserWarning: Update your `Dense` call to the Keras 2 API: `Dense(activation=\"relu\", units=50)`\n",
      "/home/kaustubh/.local/lib/python3.6/site-packages/ipykernel_launcher.py:27: UserWarning: Update your `Dense` call to the Keras 2 API: `Dense(input_dim=50, activation=\"softmax\", units=10)`\n"
     ]
    }
   ],
   "source": [
    "\n",
    "# Importing the Keras libraries and packages\n",
    "from keras.models import Sequential\n",
    "from keras.layers import Conv2D, InputLayer, Reshape, Dropout, Activation\n",
    "from keras.layers import MaxPooling2D\n",
    "from keras.layers import Flatten\n",
    "from keras.layers import Dense\n",
    "\n",
    "# Initialising the CNN\n",
    "classifier = Sequential()\n",
    "\n",
    "# Step 1 - Convolution\n",
    "classifier.add(Conv2D(25, (5,5), input_shape = (28,28,1), activation = 'relu'))\n",
    "\n",
    "# Step 2 - Pooling\n",
    "classifier.add(MaxPooling2D(pool_size = (2, 2)))\n",
    "\n",
    "# Adding a second convolutional layer\n",
    "classifier.add(Conv2D(25, (5,5), activation = 'relu'))\n",
    "classifier.add(MaxPooling2D(pool_size = (2, 2)))\n",
    "\n",
    "# Step 3 - Flattening\n",
    "classifier.add(Flatten())\n",
    "\n",
    "# Step 4 - Full connection\n",
    "classifier.add(Dense(output_dim = 50, activation = 'relu'))\n",
    "classifier.add(Dense(output_dim = 10, input_dim = 50, activation = 'softmax'))\n",
    "\n",
    "# Compiling the CNN\n",
    "classifier.compile(optimizer = 'adam', loss = 'categorical_crossentropy', metrics = ['accuracy'])\n"
   ]
  },
  {
   "cell_type": "code",
   "execution_count": 23,
   "metadata": {
    "collapsed": false
   },
   "outputs": [
    {
     "name": "stdout",
     "output_type": "stream",
     "text": [
      "Epoch 1/5\n",
      "49000/49000 [==============================] - 31s 628us/step - loss: 0.0919 - acc: 0.9725\n",
      "Epoch 2/5\n",
      "49000/49000 [==============================] - 30s 622us/step - loss: 0.0645 - acc: 0.9804\n",
      "Epoch 3/5\n",
      "49000/49000 [==============================] - 30s 616us/step - loss: 0.0510 - acc: 0.9841\n",
      "Epoch 4/5\n",
      "49000/49000 [==============================] - 30s 616us/step - loss: 0.0416 - acc: 0.9869\n",
      "Epoch 5/5\n",
      "49000/49000 [==============================] - 31s 630us/step - loss: 0.0366 - acc: 0.9886\n"
     ]
    }
   ],
   "source": [
    "# fitting\n",
    "trained_model_conv = classifier.fit(train_x_temp, y_train, epochs = 5, batch_size = 128 )"
   ]
  },
  {
   "cell_type": "code",
   "execution_count": 25,
   "metadata": {
    "collapsed": false,
    "scrolled": true
   },
   "outputs": [
    {
     "name": "stdout",
     "output_type": "stream",
     "text": [
      "[array([[0., 0., 0., 0., 1., 0., 0., 0., 0., 0.]], dtype=float32), array([[1., 0., 0., 0., 0., 0., 0., 0., 0., 0.]], dtype=float32), array([[0., 0., 0., 0., 0., 0., 0., 0., 0., 1.]], dtype=float32), array([[0., 0., 0., 0., 0., 0., 0., 1., 0., 0.]], dtype=float32), array([[0., 0., 0., 0., 0., 0., 0., 0., 0., 1.]], dtype=float32), array([[0., 0., 0., 0., 0., 0., 1., 0., 0., 0.]], dtype=float32), array([[0., 0., 0., 0., 0., 0., 1., 0., 0., 0.]], dtype=float32), array([[0.0000000e+00, 0.0000000e+00, 0.0000000e+00, 0.0000000e+00,\n",
      "        0.0000000e+00, 0.0000000e+00, 0.0000000e+00, 1.0000000e+00,\n",
      "        0.0000000e+00, 1.2008561e-34]], dtype=float32), array([[1., 0., 0., 0., 0., 0., 0., 0., 0., 0.]], dtype=float32), array([[0., 0., 0., 0., 1., 0., 0., 0., 0., 0.]], dtype=float32), array([[0., 0., 1., 0., 0., 0., 0., 0., 0., 0.]], dtype=float32), array([[0., 0., 0., 0., 0., 0., 0., 0., 1., 0.]], dtype=float32), array([[0., 0., 0., 0., 1., 0., 0., 0., 0., 0.]], dtype=float32), array([[0., 0., 0., 0., 0., 0., 1., 0., 0., 0.]], dtype=float32), array([[0., 1., 0., 0., 0 ], dtype=float32), ar]\n"
     ]
    }
   ],
   "source": [
    "#predicting the result\n",
    "import cv2\n",
    "final = []\n",
    "for img_name in test.filename:\n",
    "    test_image = cv2.imread(\"/home/kaustubh/Downloads/digit/Images/test/\"+img_name)\n",
    "    test_image = cv2.resize(test_image,(28,28))\n",
    "    test_image = cv2.cvtColor(test_image, cv2.COLOR_BGR2GRAY)\n",
    "    test_image = test_image.reshape((-1,28,28,1))\n",
    "    result = classifier.predict(test_image)\n",
    "    final.append(result)\n",
    "print(final)"
   ]
  },
  {
   "cell_type": "code",
   "execution_count": null,
   "metadata": {
    "collapsed": true
   },
   "outputs": [],
   "source": [
    "# We can see in the first line of output above  have array [ 0,0,0,0,1] that means  the prediction on the test image is 4"
   ]
  },
  {
   "cell_type": "code",
   "execution_count": 1,
   "metadata": {
    "collapsed": false
   },
   "outputs": [
    {
     "name": "stdout",
     "output_type": "stream",
     "text": [
      "Press 'c' to capture the photo\n",
      "press 'q' to exit\n"
     ]
    }
   ],
   "source": [
    "#we can also predict handwritten digits, by simply showing handwritten digit in front of webcam\n",
    "\n",
    "import cv2\n",
    "print(\"Press 'c' to capture the photo\")\n",
    "print(\"press 'q' to exit\")\n",
    "#to start the webcam or external web camera\n",
    "capture = cv2.VideoCapture(0)\n",
    "\n",
    "#camera will switch on\n",
    "while capture.isOpened():\n",
    "\t\t\n",
    "\tstatus,frame = capture.read()\n",
    "\tcv2.rectangle(frame,(100,100),(250,250),(0,0,255),2)\t\n",
    "\tcv2.imshow(\"frame1\",frame)\n",
    "\tif cv2.waitKey(1) & 0xFF == ord(\"c\")  :\n",
    "\n",
    "\t#saving and copying the part of image into another image roi(region of interest)\n",
    "\t\troi = frame[100:250 , 100 :250]\n",
    "\t#coordinates of the rectangle form are (100,100) and (250,250)\t\n",
    "\t#saving the image\n",
    "\t\tcv2.imwrite(\"predict_image.png\",roi)\t\n",
    "\t\n",
    "\t\tcapture.release()\n",
    "\t\tcv2.waitKey(0)\n",
    "\n",
    "\t#exit the loop\n",
    "\tif cv2.waitKey(1) & 0xFF == ord(\"q\")  : \n",
    "\t\tbreak\n",
    "\n",
    "test_image = cv2.imread(\"/home/kaustubh/Downloads/Image/predict_image.png\")\n",
    "test_image = cv2.resize(test_image,(28,28))\n",
    "test_image = cv2.cvtColor(test_image, cv2.COLOR_BGR2GRAY)\n",
    "test_image = test_image.reshape((-1,28,28,1))\n",
    "result = classifier.predict(test_image)\n",
    "print(result)"
   ]
  }
 ],
 "metadata": {
  "kernelspec": {
   "display_name": "Python 3",
   "language": "python",
   "name": "python3"
  },
  "language_info": {
   "codemirror_mode": {
    "name": "ipython",
    "version": 3
   },
   "file_extension": ".py",
   "mimetype": "text/x-python",
   "name": "python",
   "nbconvert_exporter": "python",
   "pygments_lexer": "ipython3",
   "version": "3.6.3"
  }
 },
 "nbformat": 4,
 "nbformat_minor": 2
}
