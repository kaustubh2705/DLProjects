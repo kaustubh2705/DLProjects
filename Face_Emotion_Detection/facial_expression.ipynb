{
 "cells": [
  {
   "cell_type": "code",
   "execution_count": 1,
   "metadata": {},
   "outputs": [
    {
     "name": "stderr",
     "output_type": "stream",
     "text": [
      "Using TensorFlow backend.\n"
     ]
    }
   ],
   "source": [
    "# Importing the Keras libraries and packages\n",
    "\n",
    "from keras.models import Sequential\n",
    "from keras.layers import Conv2D\n",
    "from keras.layers import MaxPooling2D\n",
    "from keras.layers import Flatten\n",
    "from keras.layers import Dense\n",
    "\n",
    "# Initialising the CNN\n",
    "classifier = Sequential()\n",
    "\n",
    "# Step 1 - Convolution\n",
    "classifier.add(Conv2D(32, (3, 3), input_shape = (48, 48, 3), activation = 'relu'))\n",
    "\n",
    "# Step 2 - Pooling\n",
    "classifier.add(MaxPooling2D(pool_size = (2, 2)))\n",
    "\n",
    "# Adding a second convolutional layer\n",
    "classifier.add(Conv2D(32, (3, 3), activation = 'relu'))\n",
    "classifier.add(MaxPooling2D(pool_size = (2, 2)))\n",
    "\n",
    "# Step 3 - Flattening\n",
    "classifier.add(Flatten())\n",
    "\n",
    "# Step 4 - Full connection\n",
    "classifier.add(Dense(units = 128, activation = 'relu'))\n",
    "classifier.add(Dense(units = 7, activation = 'softmax'))\n",
    "\n",
    "# Compiling the CNN\n",
    "classifier.compile(optimizer = 'adam', loss = 'categorical_crossentropy', metrics = ['accuracy'])\n"
   ]
  },
  {
   "cell_type": "code",
   "execution_count": 2,
   "metadata": {},
   "outputs": [
    {
     "name": "stdout",
     "output_type": "stream",
     "text": [
      "Found 28707 images belonging to 7 classes.\n",
      "Found 3589 images belonging to 7 classes.\n",
      "Epoch 1/5\n",
      "28707/28707 [==============================] - 2835s 99ms/step - loss: 1.1264 - acc: 0.5729 - val_loss: 1.2438 - val_acc: 0.5587\n",
      "Epoch 2/5\n",
      "28707/28707 [==============================] - 2518s 88ms/step - loss: 0.8271 - acc: 0.6940 - val_loss: 1.4211 - val_acc: 0.5653\n",
      "Epoch 3/5\n",
      "28707/28707 [==============================] - 2324s 81ms/step - loss: 0.7030 - acc: 0.7415 - val_loss: 1.5047 - val_acc: 0.5704\n",
      "Epoch 4/5\n",
      "28707/28707 [==============================] - 2459s 86ms/step - loss: 0.6407 - acc: 0.7654 - val_loss: 1.6123 - val_acc: 0.5726\n",
      "Epoch 5/5\n",
      "28707/28707 [==============================] - 2440s 85ms/step - loss: 0.5929 - acc: 0.7835 - val_loss: 1.6938 - val_acc: 0.5628\n"
     ]
    },
    {
     "data": {
      "text/plain": [
       "<keras.callbacks.History at 0x7f12e9571a20>"
      ]
     },
     "execution_count": 2,
     "metadata": {},
     "output_type": "execute_result"
    }
   ],
   "source": [
    "# Part 2 - Fitting the CNN to the images\n",
    "\n",
    "from keras.preprocessing.image import ImageDataGenerator\n",
    "\n",
    "train_datagen = ImageDataGenerator(rescale = 1./255,\n",
    "                                   shear_range = 0.2,\n",
    "                                   zoom_range = 0.2,\n",
    "                                   horizontal_flip = True)\n",
    "\n",
    "test_datagen = ImageDataGenerator(rescale = 1./255)\n",
    "\n",
    "training_set = train_datagen.flow_from_directory('dataset/Training',\n",
    "                                                 target_size = (48, 48),\n",
    "                                                 batch_size = 32,\n",
    "                                                 class_mode = 'categorical')\n",
    "\n",
    "test_set = test_datagen.flow_from_directory('dataset/PrivateTest',\n",
    "                                            target_size = (48, 48),\n",
    "                                            batch_size = 32,\n",
    "                                            class_mode = 'categorical')\n",
    "   \n",
    "classifier.fit_generator( training_set, \n",
    "                         steps_per_epoch = 28707,\n",
    "                         epochs = 5,\n",
    "                         validation_data = test_set,\n",
    "                         validation_steps = 3589 \n",
    "                        )"
   ]
  },
  {
   "cell_type": "code",
   "execution_count": null,
   "metadata": {},
   "outputs": [],
   "source": [
    "#save model\n",
    "classifier.save('face_expression_model.h5')"
   ]
  },
  {
   "cell_type": "code",
   "execution_count": 1,
   "metadata": {},
   "outputs": [
    {
     "name": "stderr",
     "output_type": "stream",
     "text": [
      "Using TensorFlow backend.\n"
     ]
    }
   ],
   "source": [
    "from keras.models import load_model\n",
    "model=load_model('face_expression_model.h5')"
   ]
  },
  {
   "cell_type": "code",
   "execution_count": null,
   "metadata": {},
   "outputs": [],
   "source": [
    "# Run time emotion detection\n",
    "import cv2\n",
    "size = 4\n",
    "# We load the xml file\n",
    "classifier1 = cv2.CascadeClassifier('haarcascade_frontalface_alt.xml')\n",
    "\n",
    "capture = cv2.VideoCapture(0) #Using default WebCam connected to the PC.\n",
    "\n",
    "while capture.isOpened():\n",
    "    (rval, im) = capture.read()\n",
    "    im=cv2.flip(im,1,0) #Flip to act as a mirror\n",
    "\n",
    "    # Resize the image to speed up detection\n",
    "    mini = cv2.resize(im, (int(im.shape[1]/size), int(im.shape[0]/size)))\n",
    "\t\n",
    "    # detect MultiScale / faces \n",
    "    faces = classifier1.detectMultiScale(mini)\n",
    "\t\n",
    "    # Draw rectangles around each face\n",
    "    for f in faces:\n",
    "        (x, y, w, h) = [v * size for v in f] #Scale the shapesize backup\n",
    "        cv2.rectangle(im, (x,y), (x+w,y+h), (0,255,0), 4)\n",
    "        \n",
    "        #Save just the rectangle faces in SubRecFaces\n",
    "        sub_face = im[y:y+h, x:x+w]\n",
    "        \n",
    "        cv2.imwrite(\"predict_image.jpg\",sub_face)\n",
    "        capture.release()\n",
    "        cv2.waitKey(0)\n",
    "    \n",
    "    if cv2.waitKey(1) & 0xFF == ord(\"q\")  :\n",
    "        break\n",
    "\n",
    "test_image = cv2.imread(\"/home/keshav/Music/all/predict_image.jpg\")\n",
    "\n",
    "test_image = cv2.resize(test_image,(48,48))\n",
    "cv2.imwrite(\"final.jpg\",test_image)\n",
    "test_image = test_image.reshape((-1,48,48,3))\n",
    "\n",
    "result = model.predict(test_image)\n",
    "if result[0][0] == 1:\n",
    "    ans = 'ANGRY'\n",
    "elif result[0][1] == 1:\n",
    "    ans = 'DISGUST'\n",
    "elif result[0][2] == 1:\n",
    "    ans = 'FEAR'\n",
    "elif result[0][3] == 1:\n",
    "    ans = 'HAPPY'\n",
    "elif result[0][4] == 1:\n",
    "    ans = 'SAD'\n",
    "elif result[0][5] == 1:\n",
    "    ans = 'SURPRISE'\n",
    "else :\n",
    "    ans = 'NEUTRAL'\n",
    "print(ans)"
   ]
  },
  {
   "cell_type": "code",
   "execution_count": null,
   "metadata": {},
   "outputs": [],
   "source": []
  }
 ],
 "metadata": {
  "kernelspec": {
   "display_name": "Python 3",
   "language": "python",
   "name": "python3"
  },
  "language_info": {
   "codemirror_mode": {
    "name": "ipython",
    "version": 3
   },
   "file_extension": ".py",
   "mimetype": "text/x-python",
   "name": "python",
   "nbconvert_exporter": "python",
   "pygments_lexer": "ipython3",
   "version": "3.5.2"
  }
 },
 "nbformat": 4,
 "nbformat_minor": 2
}
